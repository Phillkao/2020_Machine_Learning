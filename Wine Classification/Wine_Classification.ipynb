{
  "nbformat": 4,
  "nbformat_minor": 0,
  "metadata": {
    "colab": {
      "name": "HW1_ML_Wine_Classification",
      "provenance": [],
      "collapsed_sections": [
        "BKm12rEo_E27",
        "jQQI7WiMfjK5",
        "4iYox036fng3",
        "Re5BvYP_gOjZ"
      ]
    },
    "kernelspec": {
      "name": "python3",
      "display_name": "Python 3"
    }
  },
  "cells": [
    {
      "cell_type": "markdown",
      "metadata": {
        "id": "LMtYlGEYmXV3",
        "colab_type": "text"
      },
      "source": [
        "# READ wine.csv (30%)"
      ]
    },
    {
      "cell_type": "code",
      "metadata": {
        "id": "jmaZH0tyj7WY",
        "colab_type": "code",
        "colab": {}
      },
      "source": [
        "import pandas as pd\n",
        "import numpy as np\n",
        "import matplotlib.pyplot as plt\n",
        "from sklearn.model_selection import train_test_split"
      ],
      "execution_count": 0,
      "outputs": []
    },
    {
      "cell_type": "code",
      "metadata": {
        "id": "A-NCU21vkePj",
        "colab_type": "code",
        "outputId": "c82cfc5a-4245-45c0-cc09-0465bdc87ec3",
        "colab": {
          "base_uri": "https://localhost:8080/",
          "height": 224
        }
      },
      "source": [
        "names = ['Type', 'Alcohol','Malic_acid','Ash','Alcalinity_of_ash', 'Magnesium','Total_phenols','Flavanoids', 'Nonflavanoid_phenols', 'Proanthocyanins', 'Color_intensity', 'Hue','OD280/OD315_of_diluted_wines', 'Proline']\n",
        "data = pd.read_csv('Wine.csv', names = names)\n",
        "data.head()"
      ],
      "execution_count": 2,
      "outputs": [
        {
          "output_type": "execute_result",
          "data": {
            "text/html": [
              "<div>\n",
              "<style scoped>\n",
              "    .dataframe tbody tr th:only-of-type {\n",
              "        vertical-align: middle;\n",
              "    }\n",
              "\n",
              "    .dataframe tbody tr th {\n",
              "        vertical-align: top;\n",
              "    }\n",
              "\n",
              "    .dataframe thead th {\n",
              "        text-align: right;\n",
              "    }\n",
              "</style>\n",
              "<table border=\"1\" class=\"dataframe\">\n",
              "  <thead>\n",
              "    <tr style=\"text-align: right;\">\n",
              "      <th></th>\n",
              "      <th>Type</th>\n",
              "      <th>Alcohol</th>\n",
              "      <th>Malic_acid</th>\n",
              "      <th>Ash</th>\n",
              "      <th>Alcalinity_of_ash</th>\n",
              "      <th>Magnesium</th>\n",
              "      <th>Total_phenols</th>\n",
              "      <th>Flavanoids</th>\n",
              "      <th>Nonflavanoid_phenols</th>\n",
              "      <th>Proanthocyanins</th>\n",
              "      <th>Color_intensity</th>\n",
              "      <th>Hue</th>\n",
              "      <th>OD280/OD315_of_diluted_wines</th>\n",
              "      <th>Proline</th>\n",
              "    </tr>\n",
              "  </thead>\n",
              "  <tbody>\n",
              "    <tr>\n",
              "      <th>0</th>\n",
              "      <td>1</td>\n",
              "      <td>14.23</td>\n",
              "      <td>1.71</td>\n",
              "      <td>2.43</td>\n",
              "      <td>15.6</td>\n",
              "      <td>127</td>\n",
              "      <td>2.80</td>\n",
              "      <td>3.06</td>\n",
              "      <td>0.28</td>\n",
              "      <td>2.29</td>\n",
              "      <td>5.64</td>\n",
              "      <td>1.04</td>\n",
              "      <td>3.92</td>\n",
              "      <td>1065</td>\n",
              "    </tr>\n",
              "    <tr>\n",
              "      <th>1</th>\n",
              "      <td>1</td>\n",
              "      <td>13.20</td>\n",
              "      <td>1.78</td>\n",
              "      <td>2.14</td>\n",
              "      <td>11.2</td>\n",
              "      <td>100</td>\n",
              "      <td>2.65</td>\n",
              "      <td>2.76</td>\n",
              "      <td>0.26</td>\n",
              "      <td>1.28</td>\n",
              "      <td>4.38</td>\n",
              "      <td>1.05</td>\n",
              "      <td>3.40</td>\n",
              "      <td>1050</td>\n",
              "    </tr>\n",
              "    <tr>\n",
              "      <th>2</th>\n",
              "      <td>1</td>\n",
              "      <td>13.16</td>\n",
              "      <td>2.36</td>\n",
              "      <td>2.67</td>\n",
              "      <td>18.6</td>\n",
              "      <td>101</td>\n",
              "      <td>2.80</td>\n",
              "      <td>3.24</td>\n",
              "      <td>0.30</td>\n",
              "      <td>2.81</td>\n",
              "      <td>5.68</td>\n",
              "      <td>1.03</td>\n",
              "      <td>3.17</td>\n",
              "      <td>1185</td>\n",
              "    </tr>\n",
              "    <tr>\n",
              "      <th>3</th>\n",
              "      <td>1</td>\n",
              "      <td>14.37</td>\n",
              "      <td>1.95</td>\n",
              "      <td>2.50</td>\n",
              "      <td>16.8</td>\n",
              "      <td>113</td>\n",
              "      <td>3.85</td>\n",
              "      <td>3.49</td>\n",
              "      <td>0.24</td>\n",
              "      <td>2.18</td>\n",
              "      <td>7.80</td>\n",
              "      <td>0.86</td>\n",
              "      <td>3.45</td>\n",
              "      <td>1480</td>\n",
              "    </tr>\n",
              "    <tr>\n",
              "      <th>4</th>\n",
              "      <td>1</td>\n",
              "      <td>13.24</td>\n",
              "      <td>2.59</td>\n",
              "      <td>2.87</td>\n",
              "      <td>21.0</td>\n",
              "      <td>118</td>\n",
              "      <td>2.80</td>\n",
              "      <td>2.69</td>\n",
              "      <td>0.39</td>\n",
              "      <td>1.82</td>\n",
              "      <td>4.32</td>\n",
              "      <td>1.04</td>\n",
              "      <td>2.93</td>\n",
              "      <td>735</td>\n",
              "    </tr>\n",
              "  </tbody>\n",
              "</table>\n",
              "</div>"
            ],
            "text/plain": [
              "   Type  Alcohol  Malic_acid  ...   Hue  OD280/OD315_of_diluted_wines  Proline\n",
              "0     1    14.23        1.71  ...  1.04                          3.92     1065\n",
              "1     1    13.20        1.78  ...  1.05                          3.40     1050\n",
              "2     1    13.16        2.36  ...  1.03                          3.17     1185\n",
              "3     1    14.37        1.95  ...  0.86                          3.45     1480\n",
              "4     1    13.24        2.59  ...  1.04                          2.93      735\n",
              "\n",
              "[5 rows x 14 columns]"
            ]
          },
          "metadata": {
            "tags": []
          },
          "execution_count": 2
        }
      ]
    },
    {
      "cell_type": "markdown",
      "metadata": {
        "id": "VnRcct2Vzf6R",
        "colab_type": "text"
      },
      "source": [
        "## Split data"
      ]
    },
    {
      "cell_type": "code",
      "metadata": {
        "id": "NqWVij6tdBDw",
        "colab_type": "code",
        "colab": {}
      },
      "source": [
        "#Writing data into dictionay\n",
        "wine = {}\n",
        "for types in range(1,4):\n",
        "  wine[types] = data[data.Type == types].values"
      ],
      "execution_count": 0,
      "outputs": []
    },
    {
      "cell_type": "markdown",
      "metadata": {
        "id": "avxhJL47mWik",
        "colab_type": "text"
      },
      "source": [
        "### 1. Split through\n",
        "\n",
        "```\n",
        "sklearn.model_selection  train_test_split\n",
        "```\n",
        "\n"
      ]
    },
    {
      "cell_type": "code",
      "metadata": {
        "id": "rfDPdHeSoqbT",
        "colab_type": "code",
        "colab": {}
      },
      "source": [
        "def ran_split(wine: dict, xtrain: list, xtest: list):\n",
        "  for types in range(1,4):\n",
        "    train, test = train_test_split(wine[types], test_size = 18, shuffle =True)\n",
        "    xtrain.extend(train)\n",
        "    xtest.extend(test)\n",
        "  xtrain = np.array(xtrain)\n",
        "  xtest = np.array(xtest)\n",
        "  return xtrain, xtest"
      ],
      "execution_count": 0,
      "outputs": []
    },
    {
      "cell_type": "code",
      "metadata": {
        "id": "l-g8fFJwdZ6A",
        "colab_type": "code",
        "colab": {}
      },
      "source": [
        "xtrain, xtest = ran_split(wine, [], [])"
      ],
      "execution_count": 0,
      "outputs": []
    },
    {
      "cell_type": "code",
      "metadata": {
        "id": "v6D7g55TdULb",
        "colab_type": "code",
        "outputId": "2242f16b-07db-4688-be3e-11b27d9e2139",
        "colab": {
          "base_uri": "https://localhost:8080/",
          "height": 34
        }
      },
      "source": [
        "xtrain.shape"
      ],
      "execution_count": 6,
      "outputs": [
        {
          "output_type": "execute_result",
          "data": {
            "text/plain": [
              "(124, 14)"
            ]
          },
          "metadata": {
            "tags": []
          },
          "execution_count": 6
        }
      ]
    },
    {
      "cell_type": "code",
      "metadata": {
        "id": "LoQb4uh-zKcJ",
        "colab_type": "code",
        "outputId": "e7d470a6-d372-4bb2-b453-f0a3b44e7b16",
        "colab": {
          "base_uri": "https://localhost:8080/",
          "height": 34
        }
      },
      "source": [
        "xtest.shape"
      ],
      "execution_count": 7,
      "outputs": [
        {
          "output_type": "execute_result",
          "data": {
            "text/plain": [
              "(54, 14)"
            ]
          },
          "metadata": {
            "tags": []
          },
          "execution_count": 7
        }
      ]
    },
    {
      "cell_type": "markdown",
      "metadata": {
        "id": "2KxBst9XzVbR",
        "colab_type": "text"
      },
      "source": [
        "### 2. Split by hand"
      ]
    },
    {
      "cell_type": "code",
      "metadata": {
        "id": "T6vgSq9LzSVg",
        "colab_type": "code",
        "colab": {}
      },
      "source": [
        "def ran_split2(wine: dict, xtrain: list, xtest: list):\n",
        "  for types in range(1,4):\n",
        "    seeds = np.random.choice(range(len(wine[types])),size = 18, replace= False)\n",
        "    for i in range(len(wine[types])):\n",
        "        if (i in seeds):\n",
        "          xtest.extend(wine[types][i].reshape(1,-1)) \n",
        "        else:\n",
        "          xtrain.extend(wine[types][i].reshape(1,-1))\n",
        "\n",
        "  xtrain = np.array(xtrain)\n",
        "  xtest = np.array(xtest)\n",
        "  return xtrain, xtest"
      ],
      "execution_count": 0,
      "outputs": []
    },
    {
      "cell_type": "code",
      "metadata": {
        "id": "_X4dN_Ig9xRE",
        "colab_type": "code",
        "colab": {}
      },
      "source": [
        "xtrain2, xtest2 = ran_split2(wine, [], [])"
      ],
      "execution_count": 0,
      "outputs": []
    },
    {
      "cell_type": "code",
      "metadata": {
        "id": "xYlm3w9Q1ORf",
        "colab_type": "code",
        "outputId": "f6cc2881-d56d-4a3e-9af2-c054e1351290",
        "colab": {
          "base_uri": "https://localhost:8080/",
          "height": 34
        }
      },
      "source": [
        "xtrain2.shape"
      ],
      "execution_count": 10,
      "outputs": [
        {
          "output_type": "execute_result",
          "data": {
            "text/plain": [
              "(124, 14)"
            ]
          },
          "metadata": {
            "tags": []
          },
          "execution_count": 10
        }
      ]
    },
    {
      "cell_type": "code",
      "metadata": {
        "id": "GWMCcsyG-e0q",
        "colab_type": "code",
        "outputId": "8f17d789-f34d-457a-da86-34442d11531b",
        "colab": {
          "base_uri": "https://localhost:8080/",
          "height": 34
        }
      },
      "source": [
        "xtest2.shape"
      ],
      "execution_count": 11,
      "outputs": [
        {
          "output_type": "execute_result",
          "data": {
            "text/plain": [
              "(54, 14)"
            ]
          },
          "metadata": {
            "tags": []
          },
          "execution_count": 11
        }
      ]
    },
    {
      "cell_type": "markdown",
      "metadata": {
        "id": "BKm12rEo_E27",
        "colab_type": "text"
      },
      "source": [
        "## Save train.csv and test.csv"
      ]
    },
    {
      "cell_type": "code",
      "metadata": {
        "id": "0FzXMVJ__ETN",
        "colab_type": "code",
        "colab": {}
      },
      "source": [
        "Train = pd.DataFrame(xtrain,columns = ['Type', 'Alcohol','Malic_acid','Ash','Alcalinity_of_ash', 'Magnesium','Total_phenols','Flavanoids', 'Nonflavanoid_phenols', 'Proanthocyanins', 'Color_intensity', 'Hue','OD280/OD315_of_diluted_wines', 'Proline'])\n",
        "Test = pd.DataFrame(xtest, columns = ['Type', 'Alcohol','Malic_acid','Ash','Alcalinity_of_ash', 'Magnesium','Total_phenols','Flavanoids', 'Nonflavanoid_phenols', 'Proanthocyanins', 'Color_intensity', 'Hue','OD280/OD315_of_diluted_wines', 'Proline'] )\n",
        "\n",
        "Train.to_csv('Train.csv', index = False)\n",
        "Test.to_csv('Test.csv', index = False)"
      ],
      "execution_count": 0,
      "outputs": []
    },
    {
      "cell_type": "markdown",
      "metadata": {
        "id": "EZtkE8hW7Tgx",
        "colab_type": "text"
      },
      "source": [
        "# Evaluate the Posterior Probabilities and Camparing with MAP (50%)"
      ]
    },
    {
      "cell_type": "code",
      "metadata": {
        "id": "Kp5dAxfjVvXx",
        "colab_type": "code",
        "colab": {}
      },
      "source": [
        "def modify_data(train, test):\n",
        "  ytrain = train.T[0]\n",
        "  xtrain = train[:,1:]\n",
        "  ytest = test.T[0]\n",
        "  xtest = test[:,1:]\n",
        "  return xtrain, xtest, ytrain, ytest"
      ],
      "execution_count": 0,
      "outputs": []
    },
    {
      "cell_type": "markdown",
      "metadata": {
        "id": "4dgb5YRdgIGJ",
        "colab_type": "text"
      },
      "source": [
        "## Evaluate Prior distribution\n",
        "\n",
        "$$ p(Class 1) = \\frac{C1}{C1+C2+C3} $$\n",
        "$$ p(Class 2) = \\frac{C2}{C1+C2+C3} $$\n",
        "$$ p(Class 3) = \\frac{C3}{C1+C2+C3} $$\n"
      ]
    },
    {
      "cell_type": "code",
      "metadata": {
        "id": "A_QepdYAvn7r",
        "colab_type": "code",
        "colab": {}
      },
      "source": [
        "def cal_prior(train): \n",
        "  prior_1 = len(train[ytrain == 1])/ len(train)\n",
        "  prior_2 = len(train[ytrain == 2])/ len(train)\n",
        "  prior_3 = len(train[ytrain == 3])/ len(train)\n",
        "  return prior_1, prior_2, prior_3"
      ],
      "execution_count": 0,
      "outputs": []
    },
    {
      "cell_type": "code",
      "metadata": {
        "id": "ocIJOJF1btj_",
        "colab_type": "code",
        "outputId": "0d946abc-b27f-41fd-ffb1-e1928959e832",
        "colab": {
          "base_uri": "https://localhost:8080/",
          "height": 34
        }
      },
      "source": [
        "xtrain, xtest, ytrain, ytest = modify_data(xtrain, xtest)\n",
        "prior_1, prior_2, prior_3 = cal_prior(ytrain)\n",
        "print(prior_1, prior_2, prior_3)"
      ],
      "execution_count": 15,
      "outputs": [
        {
          "output_type": "stream",
          "text": [
            "0.33064516129032256 0.4274193548387097 0.24193548387096775\n"
          ],
          "name": "stdout"
        }
      ]
    },
    {
      "cell_type": "markdown",
      "metadata": {
        "id": "TnOMRgr2hx5R",
        "colab_type": "text"
      },
      "source": [
        "## Learning likelihood function \n",
        "\n",
        "Using <font color=#0099ff face=\"Times\">***probablity densinty distribution***</font> of <font color=#0099ff face=\"Times\"> ***Guassian Distribution*** </font> to learn likelihooh function of each class. \n",
        "\n",
        "Because there are 13 features in this case ,we use  <font color=#FF0000 face=\"Times\" size = 5>  ***Multivariate Guassian Distribution*** </font>\n",
        "\n",
        "<br>$$P(x;\\mu, \\Sigma) =  \\frac{1}{( 2\\pi )^{D/2} \\times |\\Sigma| ^{1/2}} \\times \\exp (-\\frac {1}{2} \\times {(x-\\mu)^{T}} \\cdot \\Sigma^{-1}  \\cdot (x - \\mu))  $$      \n",
        "<br>\n",
        "* $ D$ : dimension of $x$ (features)\n",
        "\n",
        "* $ \\mu = \\frac{1}{n} {\\sum_1^n}x$\n",
        "\n",
        "* $ \\Sigma = Covariance(x),　size = (D,D)$\n",
        "\n",
        "\n",
        "\n",
        "\n"
      ]
    },
    {
      "cell_type": "code",
      "metadata": {
        "id": "ZBJld3obnGdy",
        "colab_type": "code",
        "colab": {}
      },
      "source": [
        "## sampling data with multivariate guassian distribution\n",
        "def multivariate_guassian(x, d, mean, sigma):\n",
        "  x = x.reshape(13,1)\n",
        "  exp = (np.exp((-1/2) * (x-mean).T @ np.linalg.inv(sigma) @ (x - mean))).item()\n",
        "  return (1 / (2 * np.pi)** (d/2) ) * np.sqrt(np.linalg.det(sigma)) *exp"
      ],
      "execution_count": 0,
      "outputs": []
    },
    {
      "cell_type": "markdown",
      "metadata": {
        "id": "4V6UYQPmNLEO",
        "colab_type": "text"
      },
      "source": [
        "### To learn likelihood function of each group, we have to estimate their parameters $\\mu$ and $\\Sigma$"
      ]
    },
    {
      "cell_type": "code",
      "metadata": {
        "id": "NS9xVZfoVJ-S",
        "colab_type": "code",
        "colab": {}
      },
      "source": [
        "def parameters(x: np.array):\n",
        "  mean = (np.sum(x, axis = 0) / len(x)).reshape(13,1)\n",
        "  cov = np.cov(x.T)\n",
        "  return mean, cov"
      ],
      "execution_count": 0,
      "outputs": []
    },
    {
      "cell_type": "markdown",
      "metadata": {
        "id": "jQQI7WiMfjK5",
        "colab_type": "text"
      },
      "source": [
        "#### $\\mu$ and $\\Sigma$ of Class 1"
      ]
    },
    {
      "cell_type": "code",
      "metadata": {
        "id": "jNZex0Ycw08c",
        "colab_type": "code",
        "outputId": "ce031301-3206-41e9-c9c7-aa85605ef621",
        "colab": {
          "base_uri": "https://localhost:8080/",
          "height": 0
        }
      },
      "source": [
        "mean, cov = parameters(xtrain[:41,:])\n",
        "print(mean)\n",
        "print(cov)"
      ],
      "execution_count": 18,
      "outputs": [
        {
          "output_type": "stream",
          "text": [
            "[[1.37968293e+01]\n",
            " [2.08097561e+00]\n",
            " [2.46170732e+00]\n",
            " [1.68878049e+01]\n",
            " [1.06487805e+02]\n",
            " [2.86926829e+00]\n",
            " [3.01512195e+00]\n",
            " [2.86341463e-01]\n",
            " [1.95463415e+00]\n",
            " [5.62414634e+00]\n",
            " [1.06073171e+00]\n",
            " [3.15000000e+00]\n",
            " [1.13517073e+03]]\n",
            "[[ 2.40882195e-01 -9.80932927e-03 -1.38444512e-02 -4.80914634e-01\n",
            "   8.90085366e-01  7.73401220e-02  9.81991463e-02  4.03060976e-03\n",
            "   7.91750610e-02  2.51290976e-01  4.80237805e-03  2.03500000e-03\n",
            "   3.06158049e+01]\n",
            " [-9.80932927e-03  5.30304024e-01  3.68829268e-03  8.69871951e-02\n",
            "   7.00262195e-01 -2.91067683e-02 -6.81876220e-02 -7.06884146e-03\n",
            "  -4.74396341e-02 -2.60249146e-01 -3.55032317e-02  6.22325000e-02\n",
            "  -6.83431707e+01]\n",
            " [-1.38444512e-02  3.68829268e-03  3.68945122e-02  2.08396341e-01\n",
            "   4.24396341e-01  1.09878049e-03  8.21036585e-04  1.68890244e-03\n",
            "   4.01890244e-04  9.27524390e-03  5.85121951e-03 -9.68750000e-03\n",
            "   2.11695122e+00]\n",
            " [-4.80914634e-01  8.69871951e-02  2.08396341e-01  5.86609756e+00\n",
            "   2.39859756e+00 -1.72609146e-01 -2.83260976e-01  1.00542683e-02\n",
            "  -1.27267073e-01 -2.07348171e-01  3.13414634e-03 -2.19500000e-01\n",
            "  -2.71553659e+01]\n",
            " [ 8.90085366e-01  7.00262195e-01  4.24396341e-01  2.39859756e+00\n",
            "   1.00356098e+02  1.22461585e+00  7.43439024e-01 -5.36707317e-02\n",
            "   3.54932927e-01  3.53017683e+00 -3.27615854e-01  8.85500000e-01\n",
            "  -6.03660366e+02]\n",
            " [ 7.73401220e-02 -2.91067683e-02  1.09878049e-03 -1.72609146e-01\n",
            "   1.22461585e+00  1.09931951e-01  1.05488841e-01 -1.43024390e-03\n",
            "   5.46134756e-02  2.73515610e-01 -9.54945122e-03  3.35250000e-03\n",
            "   2.33891280e+01]\n",
            " [ 9.81991463e-02 -6.81876220e-02  8.21036585e-04 -2.83260976e-01\n",
            "   7.43439024e-01  1.05488841e-01  1.59915610e-01 -3.30792683e-04\n",
            "   8.92431707e-02  3.65595732e-01  2.55615854e-03 -1.06575000e-02\n",
            "   3.70493537e+01]\n",
            " [ 4.03060976e-03 -7.06884146e-03  1.68890244e-03  1.00542683e-02\n",
            "  -5.36707317e-02 -1.43024390e-03 -3.30792683e-04  3.70878049e-03\n",
            "   2.50487805e-03 -2.42945122e-03  3.66774390e-03 -8.53500000e-03\n",
            "   8.45640244e-01]\n",
            " [ 7.91750610e-02 -4.74396341e-02  4.01890244e-04 -1.27267073e-01\n",
            "   3.54932927e-01  5.46134756e-02  8.92431707e-02  2.50487805e-03\n",
            "   1.64330488e-01  1.95285305e-01  6.37652439e-03 -1.84750000e-03\n",
            "   1.07784390e+01]\n",
            " [ 2.51290976e-01 -2.60249146e-01  9.27524390e-03 -2.07348171e-01\n",
            "   3.53017683e+00  2.73515610e-01  3.65595732e-01 -2.42945122e-03\n",
            "   1.95285305e-01  1.59190488e+00  1.21618902e-02 -1.02277500e-01\n",
            "   1.83095774e+02]\n",
            " [ 4.80237805e-03 -3.55032317e-02  5.85121951e-03  3.13414634e-03\n",
            "  -3.27615854e-01 -9.54945122e-03  2.55615854e-03  3.66774390e-03\n",
            "   6.37652439e-03  1.21618902e-02  1.36369512e-02 -1.40350000e-02\n",
            "   8.45312195e+00]\n",
            " [ 2.03500000e-03  6.22325000e-02 -9.68750000e-03 -2.19500000e-01\n",
            "   8.85500000e-01  3.35250000e-03 -1.06575000e-02 -8.53500000e-03\n",
            "  -1.84750000e-03 -1.02277500e-01 -1.40350000e-02  1.33945000e-01\n",
            "  -3.63900000e+01]\n",
            " [ 3.06158049e+01 -6.83431707e+01  2.11695122e+00 -2.71553659e+01\n",
            "  -6.03660366e+02  2.33891280e+01  3.70493537e+01  8.45640244e-01\n",
            "   1.07784390e+01  1.83095774e+02  8.45312195e+00 -3.63900000e+01\n",
            "   5.27279451e+04]]\n"
          ],
          "name": "stdout"
        }
      ]
    },
    {
      "cell_type": "markdown",
      "metadata": {
        "id": "4iYox036fng3",
        "colab_type": "text"
      },
      "source": [
        "#### $\\mu$ and $\\Sigma$ of Class 2"
      ]
    },
    {
      "cell_type": "code",
      "metadata": {
        "id": "AqcYJ3T8fplj",
        "colab_type": "code",
        "outputId": "1de6ad73-9194-4ecb-f2df-4f54eeee2907",
        "colab": {
          "base_uri": "https://localhost:8080/",
          "height": 0
        }
      },
      "source": [
        "mean, cov = parameters(xtrain[41:94,:])\n",
        "print(mean)\n",
        "print(cov)"
      ],
      "execution_count": 19,
      "outputs": [
        {
          "output_type": "stream",
          "text": [
            "[[1.22862264e+01]\n",
            " [2.07716981e+00]\n",
            " [2.25396226e+00]\n",
            " [2.05471698e+01]\n",
            " [9.27735849e+01]\n",
            " [2.26622642e+00]\n",
            " [2.15188679e+00]\n",
            " [3.69056604e-01]\n",
            " [1.66830189e+00]\n",
            " [3.06452830e+00]\n",
            " [1.04150943e+00]\n",
            " [2.88603774e+00]\n",
            " [4.91188679e+02]]\n",
            "[[ 3.55854717e-01 -1.01089623e-02 -5.27905298e-02 -2.87010885e-01\n",
            "  -5.16255443e-01 -3.81510522e-02 -5.04388970e-02 -7.88439768e-03\n",
            "  -9.53296081e-02  1.63075109e-01 -1.94996372e-03 -6.93363933e-02\n",
            "  -1.80062046e+00]\n",
            " [-1.01089623e-02  1.24667453e+00  4.07960450e-02  6.64751451e-01\n",
            "  -8.89306967e-01  5.66794993e-02  8.76708273e-02  1.81530479e-02\n",
            "   1.57152794e-01 -2.04156168e-01 -9.73514151e-02  2.68481858e-02\n",
            "  -2.52398403e+01]\n",
            " [-5.27905298e-02  4.07960450e-02  9.88705370e-02  6.93386430e-01\n",
            "   1.92645138e-01  2.09479318e-02  7.04250726e-02  1.57403483e-02\n",
            "  -6.44314224e-03  7.04517417e-03 -5.37340348e-03  1.64486938e-02\n",
            "   8.08417997e-03]\n",
            " [-2.87010885e-01  6.64751451e-01  6.93386430e-01  9.67061684e+00\n",
            "  -5.02565312e+00  3.91429608e-02  5.13928520e-01  1.35641509e-01\n",
            "   5.71625544e-03 -3.55083091e-01 -7.15148766e-02  2.94094340e-01\n",
            "  -6.39783019e+01]\n",
            " [-5.16255443e-01 -8.89306967e-01  1.92645138e-01 -5.02565312e+00\n",
            "   2.54486212e+02  7.86629173e-01  5.14473875e-01 -1.90794630e-01\n",
            "   3.13691582e+00  5.16429608e-01  3.44386792e-01 -5.34952830e-01\n",
            "   9.60005080e+02]\n",
            " [-3.81510522e-02  5.66794993e-02  2.09479318e-02  3.91429608e-02\n",
            "   7.86629173e-01  2.14350871e-01  2.35243795e-01 -1.89978592e-02\n",
            "   1.30349238e-01  2.30885704e-02  2.67888244e-03  7.63674528e-02\n",
            "  -7.51331277e+00]\n",
            " [-5.04388970e-02  8.76708273e-02  7.04250726e-02  5.13928520e-01\n",
            "   5.14473875e-01  2.35243795e-01  4.36277141e-01 -1.50366473e-02\n",
            "   1.88295573e-01  1.84397061e-01 -9.89521045e-03  1.47559543e-01\n",
            "  -1.79884398e+01]\n",
            " [-7.88439768e-03  1.81530479e-02  1.57403483e-02  1.35641509e-01\n",
            "  -1.90794630e-01 -1.89978592e-02 -1.50366473e-02  1.41548621e-02\n",
            "  -2.49958636e-02  1.02928157e-02 -2.26777939e-03 -2.20903483e-02\n",
            "  -6.07510885e-01]\n",
            " [-9.53296081e-02  1.57152794e-01 -6.44314224e-03  5.71625544e-03\n",
            "   3.13691582e+00  1.30349238e-01  1.88295573e-01 -2.49958636e-02\n",
            "   3.80706676e-01 -1.16159470e-01 -3.68777213e-03  9.98142961e-02\n",
            "   8.88551887e+00]\n",
            " [ 1.63075109e-01 -2.04156168e-01  7.04517417e-03 -3.55083091e-01\n",
            "   5.16429608e-01  2.30885704e-02  1.84397061e-01  1.02928157e-02\n",
            "  -1.16159470e-01  9.47979100e-01 -1.94454282e-02 -9.08374819e-02\n",
            "   7.74451379e+00]\n",
            " [-1.94996372e-03 -9.73514151e-02 -5.37340348e-03 -7.15148766e-02\n",
            "   3.44386792e-01  2.67888244e-03 -9.89521045e-03 -2.26777939e-03\n",
            "  -3.68777213e-03 -1.94454282e-02  4.49361393e-02  2.97148041e-03\n",
            "   4.31451742e+00]\n",
            " [-6.93363933e-02  2.68481858e-02  1.64486938e-02  2.94094340e-01\n",
            "  -5.34952830e-01  7.63674528e-02  1.47559543e-01 -2.20903483e-02\n",
            "   9.98142961e-02 -9.08374819e-02  2.97148041e-03  1.80005152e-01\n",
            "  -8.68827649e+00]\n",
            " [-1.80062046e+00 -2.52398403e+01  8.08417997e-03 -6.39783019e+01\n",
            "   9.60005080e+02 -7.51331277e+00 -1.79884398e+01 -6.07510885e-01\n",
            "   8.88551887e+00  7.74451379e+00  4.31451742e+00 -8.68827649e+00\n",
            "   1.90372329e+04]]\n"
          ],
          "name": "stdout"
        }
      ]
    },
    {
      "cell_type": "markdown",
      "metadata": {
        "id": "Re5BvYP_gOjZ",
        "colab_type": "text"
      },
      "source": [
        "#### $\\mu$ and $\\Sigma$ of Class 3"
      ]
    },
    {
      "cell_type": "code",
      "metadata": {
        "id": "smiSY51-gORH",
        "colab_type": "code",
        "outputId": "c4c4f2f7-f267-4918-f543-2e4b9027fd55",
        "colab": {
          "base_uri": "https://localhost:8080/",
          "height": 0
        }
      },
      "source": [
        "mean, cov = parameters(xtrain[94:,:])\n",
        "print(mean)\n",
        "print(cov)"
      ],
      "execution_count": 20,
      "outputs": [
        {
          "output_type": "stream",
          "text": [
            "[[1.31760000e+01]\n",
            " [3.27900000e+00]\n",
            " [2.43600000e+00]\n",
            " [2.18000000e+01]\n",
            " [9.89666667e+01]\n",
            " [1.66533333e+00]\n",
            " [8.28000000e-01]\n",
            " [4.23666667e-01]\n",
            " [1.18800000e+00]\n",
            " [7.45733330e+00]\n",
            " [6.69666667e-01]\n",
            " [1.63666667e+00]\n",
            " [6.21500000e+02]]\n",
            "[[ 3.56238621e-01 -7.16455172e-02  1.98282759e-02  2.50551724e-01\n",
            "  -1.24013793e+00  6.01772414e-02  8.15379310e-03  1.28358621e-02\n",
            "   1.20998621e-01  6.03085531e-01 -2.69103448e-03  3.25551724e-02\n",
            "  -7.39551724e+00]\n",
            " [-7.16455172e-02  1.20629207e+00 -4.25075862e-02 -8.60689655e-02\n",
            "  -4.68382759e+00 -9.93393103e-02 -1.82708966e-01  5.90831034e-02\n",
            "  -1.55719310e-01 -1.14753376e+00  3.89306897e-02 -1.21034483e-02\n",
            "  -9.67431034e+00]\n",
            " [ 1.98282759e-02 -4.25075862e-02  3.15144828e-02  3.17620690e-01\n",
            "   5.12275862e-01  4.10565517e-02  2.59400000e-02  2.69448276e-03\n",
            "   4.43710345e-02  1.91457936e-01 -1.35655172e-03 -5.68965517e-03\n",
            "  -1.44206897e+00]\n",
            " [ 2.50551724e-01 -8.60689655e-02  3.17620690e-01  5.28620690e+00\n",
            "   2.68275862e+00  3.98000000e-01  2.07862069e-01  6.93793103e-02\n",
            "   5.03034483e-01  1.81944836e+00 -1.88620690e-02 -7.72413793e-02\n",
            "  -3.82758621e+00]\n",
            " [-1.24013793e+00 -4.68382759e+00  5.12275862e-01  2.68275862e+00\n",
            "   1.35895402e+02 -8.36091954e-02  2.53303448e+00 -8.83666667e-01\n",
            "   1.02889655e+00  2.69577056e+00 -2.17356322e-02 -9.95977011e-01\n",
            "   2.48155172e+02]\n",
            " [ 6.01772414e-02 -9.93393103e-02  4.10565517e-02  3.98000000e-01\n",
            "  -8.36091954e-02  1.73398161e-01  4.59903448e-02  2.02659770e-02\n",
            "   1.43938621e-01  5.00849205e-01 -7.71885057e-03  2.20666667e-02\n",
            "   3.29862069e+00]\n",
            " [ 8.15379310e-03 -1.82708966e-01  2.59400000e-02  2.07862069e-01\n",
            "   2.53303448e+00  4.59903448e-02  1.08313103e-01 -2.76303448e-02\n",
            "   6.00751724e-02  2.54970356e-01 -6.25931034e-03 -3.24241379e-02\n",
            "  -1.05141379e+01]\n",
            " [ 1.28358621e-02  5.90831034e-02  2.69448276e-03  6.93793103e-02\n",
            "  -8.83666667e-01  2.02659770e-02 -2.76303448e-02  1.79343678e-02\n",
            "   1.52937931e-02  5.48170096e-02  6.90919540e-04  1.22436782e-02\n",
            "   4.26155172e+00]\n",
            " [ 1.20998621e-01 -1.55719310e-01  4.43710345e-02  5.03034483e-01\n",
            "   1.02889655e+00  1.43938621e-01  6.00751724e-02  1.52937931e-02\n",
            "   2.04754483e-01  7.77625536e-01 -1.42593103e-02  1.59103448e-02\n",
            "   1.20531034e+01]\n",
            " [ 6.03085531e-01 -1.14753376e+00  1.91457936e-01  1.81944836e+00\n",
            "   2.69577056e+00  5.00849205e-01  2.54970356e-01  5.48170096e-02\n",
            "   7.77625536e-01  6.20145454e+00 -1.28459537e-01  1.04070115e-01\n",
            "   2.17162121e+01]\n",
            " [-2.69103448e-03  3.89306897e-02 -1.35655172e-03 -1.88620690e-02\n",
            "  -2.17356322e-02 -7.71885057e-03 -6.25931034e-03  6.90919540e-04\n",
            "  -1.42593103e-02 -1.28459537e-01  1.08447126e-02  4.25747126e-03\n",
            "   8.41896552e-01]\n",
            " [ 3.25551724e-02 -1.21034483e-02 -5.68965517e-03 -7.72413793e-02\n",
            "  -9.95977011e-01  2.20666667e-02 -3.24241379e-02  1.22436782e-02\n",
            "   1.59103448e-02  1.04070115e-01  4.25747126e-03  7.29885057e-02\n",
            "   1.33206897e+01]\n",
            " [-7.39551724e+00 -9.67431034e+00 -1.44206897e+00 -3.82758621e+00\n",
            "   2.48155172e+02  3.29862069e+00 -1.05141379e+01  4.26155172e+00\n",
            "   1.20531034e+01  2.17162121e+01  8.41896552e-01  1.33206897e+01\n",
            "   1.69140517e+04]]\n"
          ],
          "name": "stdout"
        }
      ]
    },
    {
      "cell_type": "markdown",
      "metadata": {
        "id": "k8nAEgzxnpmb",
        "colab_type": "text"
      },
      "source": [
        "## Calculate Posterior and the accuracy rate of the MAP detector"
      ]
    },
    {
      "cell_type": "markdown",
      "metadata": {
        "id": "-t6bxQuzI2Ol",
        "colab_type": "text"
      },
      "source": [
        "$$Posterior( P(C1|x) ) = \\frac{P(x|C1) \\times P(c1)}{𝑃 (𝑥|𝐶1)\\times𝑃(𝐶1) + 𝑃 (𝑥|𝐶2)\\times 𝑃(𝐶2) + P(x|c3)\\times P(C3)} $$\n",
        "\n",
        "<br>\n",
        "\n",
        "\n",
        "\n",
        "*   Likelihood function: $  P(x|C1), P(x|C2), P(x|C3) $\n",
        "\n",
        "*   Prior: $ P(C1), P(C2), P(C3) $\n",
        "\n"
      ]
    },
    {
      "cell_type": "markdown",
      "metadata": {
        "id": "KRH2qNQNdC9R",
        "colab_type": "text"
      },
      "source": [
        "random splite from raw data"
      ]
    },
    {
      "cell_type": "code",
      "metadata": {
        "id": "37htgwlnZTRE",
        "colab_type": "code",
        "colab": {}
      },
      "source": [
        "train, test = ran_split(wine,[], [])\n",
        "xtrain, xtest, ytrain, ytest = modify_data(train, test)\n",
        "prior_1, prior_2, prior_3 = cal_prior(ytrain)\n",
        "\n",
        "class1_x = xtrain[:41,:]\n",
        "class2_x = xtrain[41:94,:]\n",
        "class3_x = xtrain[94:,:]\n",
        "\n",
        "mean, cov = parameters(class1_x)\n",
        "mean2, cov2 = parameters(class2_x)\n",
        "mean3, cov3 = parameters(class3_x)"
      ],
      "execution_count": 0,
      "outputs": []
    },
    {
      "cell_type": "code",
      "metadata": {
        "id": "J9_y9gBHjIqd",
        "colab_type": "code",
        "outputId": "453dcf5d-66d5-4511-820e-4284decd19af",
        "colab": {
          "base_uri": "https://localhost:8080/",
          "height": 1000
        }
      },
      "source": [
        "acc_seeds = 0\n",
        "clas = 0\n",
        "\n",
        "for i in range(len(xtest)):\n",
        "  t = xtest[i]\n",
        "\n",
        "  posterior_1 = (multivariate_guassian(t,13,mean,cov)*prior_1) / (multivariate_guassian(t,13,mean,cov)*prior_1 + multivariate_guassian(t,13,mean2,cov2)*prior_2 + multivariate_guassian(t,13,mean3,cov3)*prior_3)\n",
        "  posterior_2 = (multivariate_guassian(t,13,mean2,cov2)*prior_2) / (multivariate_guassian(t,13,mean,cov)*prior_1 + multivariate_guassian(t,13,mean2,cov2)*prior_2 + multivariate_guassian(t,13,mean3,cov3)*prior_3)\n",
        "  posterior_3 = (multivariate_guassian(t,13,mean3,cov3)*prior_3) / (multivariate_guassian(t,13,mean,cov)*prior_1 + multivariate_guassian(t,13,mean2,cov2)*prior_2 + multivariate_guassian(t,13,mean3,cov3)*prior_3)\n",
        "\n",
        "  good = max(posterior_1, posterior_2, posterior_3)\n",
        "\n",
        "\n",
        "  if (good == posterior_1):\n",
        "    clas = 1\n",
        "  elif (good == posterior_2):\n",
        "    clas = 2\n",
        "  else:\n",
        "    clas = 3\n",
        "  print('%d. is belong to class %d with posterior = %f \\t\\t posterior of each class = %f, %f, %f' % (i+1,clas,good, posterior_1, posterior_2, posterior_3) )\n",
        "\n",
        "  \n",
        "  if (clas == ytest[i]):\n",
        "    acc_seeds += 1\n",
        "    print('\\t Correctly Classify\\n\\n')"
      ],
      "execution_count": 22,
      "outputs": [
        {
          "output_type": "stream",
          "text": [
            "1. is belong to class 1 with posterior = 0.999999 \t\t posterior of each class = 0.999999, 0.000001, 0.000000\n",
            "\t Correctly Classify\n",
            "\n",
            "\n",
            "2. is belong to class 1 with posterior = 0.535840 \t\t posterior of each class = 0.535840, 0.464160, 0.000000\n",
            "\t Correctly Classify\n",
            "\n",
            "\n",
            "3. is belong to class 1 with posterior = 1.000000 \t\t posterior of each class = 1.000000, 0.000000, 0.000000\n",
            "\t Correctly Classify\n",
            "\n",
            "\n",
            "4. is belong to class 1 with posterior = 0.999994 \t\t posterior of each class = 0.999994, 0.000006, 0.000000\n",
            "\t Correctly Classify\n",
            "\n",
            "\n",
            "5. is belong to class 1 with posterior = 0.999136 \t\t posterior of each class = 0.999136, 0.000864, 0.000000\n",
            "\t Correctly Classify\n",
            "\n",
            "\n",
            "6. is belong to class 2 with posterior = 0.830869 \t\t posterior of each class = 0.169131, 0.830869, 0.000000\n",
            "7. is belong to class 2 with posterior = 0.914389 \t\t posterior of each class = 0.085611, 0.914389, 0.000000\n",
            "8. is belong to class 1 with posterior = 0.999842 \t\t posterior of each class = 0.999842, 0.000158, 0.000000\n",
            "\t Correctly Classify\n",
            "\n",
            "\n",
            "9. is belong to class 1 with posterior = 0.999995 \t\t posterior of each class = 0.999995, 0.000005, 0.000000\n",
            "\t Correctly Classify\n",
            "\n",
            "\n",
            "10. is belong to class 1 with posterior = 1.000000 \t\t posterior of each class = 1.000000, 0.000000, 0.000000\n",
            "\t Correctly Classify\n",
            "\n",
            "\n",
            "11. is belong to class 1 with posterior = 1.000000 \t\t posterior of each class = 1.000000, 0.000000, 0.000000\n",
            "\t Correctly Classify\n",
            "\n",
            "\n",
            "12. is belong to class 1 with posterior = 0.990709 \t\t posterior of each class = 0.990709, 0.009291, 0.000000\n",
            "\t Correctly Classify\n",
            "\n",
            "\n",
            "13. is belong to class 1 with posterior = 0.999567 \t\t posterior of each class = 0.999567, 0.000433, 0.000000\n",
            "\t Correctly Classify\n",
            "\n",
            "\n",
            "14. is belong to class 1 with posterior = 0.999863 \t\t posterior of each class = 0.999863, 0.000137, 0.000000\n",
            "\t Correctly Classify\n",
            "\n",
            "\n",
            "15. is belong to class 1 with posterior = 0.528261 \t\t posterior of each class = 0.528261, 0.471739, 0.000000\n",
            "\t Correctly Classify\n",
            "\n",
            "\n",
            "16. is belong to class 1 with posterior = 0.977770 \t\t posterior of each class = 0.977770, 0.022230, 0.000000\n",
            "\t Correctly Classify\n",
            "\n",
            "\n",
            "17. is belong to class 1 with posterior = 1.000000 \t\t posterior of each class = 1.000000, 0.000000, 0.000000\n",
            "\t Correctly Classify\n",
            "\n",
            "\n",
            "18. is belong to class 1 with posterior = 1.000000 \t\t posterior of each class = 1.000000, 0.000000, 0.000000\n",
            "\t Correctly Classify\n",
            "\n",
            "\n",
            "19. is belong to class 2 with posterior = 1.000000 \t\t posterior of each class = 0.000000, 1.000000, 0.000000\n",
            "\t Correctly Classify\n",
            "\n",
            "\n",
            "20. is belong to class 2 with posterior = 1.000000 \t\t posterior of each class = 0.000000, 1.000000, 0.000000\n",
            "\t Correctly Classify\n",
            "\n",
            "\n",
            "21. is belong to class 2 with posterior = 1.000000 \t\t posterior of each class = 0.000000, 1.000000, 0.000000\n",
            "\t Correctly Classify\n",
            "\n",
            "\n",
            "22. is belong to class 2 with posterior = 1.000000 \t\t posterior of each class = 0.000000, 1.000000, 0.000000\n",
            "\t Correctly Classify\n",
            "\n",
            "\n",
            "23. is belong to class 2 with posterior = 1.000000 \t\t posterior of each class = 0.000000, 1.000000, 0.000000\n",
            "\t Correctly Classify\n",
            "\n",
            "\n",
            "24. is belong to class 2 with posterior = 1.000000 \t\t posterior of each class = 0.000000, 1.000000, 0.000000\n",
            "\t Correctly Classify\n",
            "\n",
            "\n",
            "25. is belong to class 2 with posterior = 1.000000 \t\t posterior of each class = 0.000000, 1.000000, 0.000000\n",
            "\t Correctly Classify\n",
            "\n",
            "\n",
            "26. is belong to class 2 with posterior = 1.000000 \t\t posterior of each class = 0.000000, 1.000000, 0.000000\n",
            "\t Correctly Classify\n",
            "\n",
            "\n",
            "27. is belong to class 2 with posterior = 1.000000 \t\t posterior of each class = 0.000000, 1.000000, 0.000000\n",
            "\t Correctly Classify\n",
            "\n",
            "\n",
            "28. is belong to class 2 with posterior = 1.000000 \t\t posterior of each class = 0.000000, 1.000000, 0.000000\n",
            "\t Correctly Classify\n",
            "\n",
            "\n",
            "29. is belong to class 2 with posterior = 1.000000 \t\t posterior of each class = 0.000000, 1.000000, 0.000000\n",
            "\t Correctly Classify\n",
            "\n",
            "\n",
            "30. is belong to class 2 with posterior = 1.000000 \t\t posterior of each class = 0.000000, 1.000000, 0.000000\n",
            "\t Correctly Classify\n",
            "\n",
            "\n",
            "31. is belong to class 2 with posterior = 1.000000 \t\t posterior of each class = 0.000000, 1.000000, 0.000000\n",
            "\t Correctly Classify\n",
            "\n",
            "\n",
            "32. is belong to class 2 with posterior = 1.000000 \t\t posterior of each class = 0.000000, 1.000000, 0.000000\n",
            "\t Correctly Classify\n",
            "\n",
            "\n",
            "33. is belong to class 2 with posterior = 1.000000 \t\t posterior of each class = 0.000000, 1.000000, 0.000000\n",
            "\t Correctly Classify\n",
            "\n",
            "\n",
            "34. is belong to class 2 with posterior = 1.000000 \t\t posterior of each class = 0.000000, 1.000000, 0.000000\n",
            "\t Correctly Classify\n",
            "\n",
            "\n",
            "35. is belong to class 2 with posterior = 1.000000 \t\t posterior of each class = 0.000000, 1.000000, 0.000000\n",
            "\t Correctly Classify\n",
            "\n",
            "\n",
            "36. is belong to class 2 with posterior = 1.000000 \t\t posterior of each class = 0.000000, 1.000000, 0.000000\n",
            "\t Correctly Classify\n",
            "\n",
            "\n",
            "37. is belong to class 3 with posterior = 0.999756 \t\t posterior of each class = 0.000000, 0.000244, 0.999756\n",
            "\t Correctly Classify\n",
            "\n",
            "\n",
            "38. is belong to class 2 with posterior = 0.995560 \t\t posterior of each class = 0.000000, 0.995560, 0.004440\n",
            "39. is belong to class 3 with posterior = 1.000000 \t\t posterior of each class = 0.000000, 0.000000, 1.000000\n",
            "\t Correctly Classify\n",
            "\n",
            "\n",
            "40. is belong to class 3 with posterior = 1.000000 \t\t posterior of each class = 0.000000, 0.000000, 1.000000\n",
            "\t Correctly Classify\n",
            "\n",
            "\n",
            "41. is belong to class 3 with posterior = 1.000000 \t\t posterior of each class = 0.000000, 0.000000, 1.000000\n",
            "\t Correctly Classify\n",
            "\n",
            "\n",
            "42. is belong to class 3 with posterior = 1.000000 \t\t posterior of each class = 0.000000, 0.000000, 1.000000\n",
            "\t Correctly Classify\n",
            "\n",
            "\n",
            "43. is belong to class 3 with posterior = 0.999999 \t\t posterior of each class = 0.000000, 0.000001, 0.999999\n",
            "\t Correctly Classify\n",
            "\n",
            "\n",
            "44. is belong to class 3 with posterior = 1.000000 \t\t posterior of each class = 0.000000, 0.000000, 1.000000\n",
            "\t Correctly Classify\n",
            "\n",
            "\n",
            "45. is belong to class 2 with posterior = 0.772589 \t\t posterior of each class = 0.000000, 0.772589, 0.227411\n",
            "46. is belong to class 3 with posterior = 1.000000 \t\t posterior of each class = 0.000000, 0.000000, 1.000000\n",
            "\t Correctly Classify\n",
            "\n",
            "\n",
            "47. is belong to class 3 with posterior = 1.000000 \t\t posterior of each class = 0.000000, 0.000000, 1.000000\n",
            "\t Correctly Classify\n",
            "\n",
            "\n",
            "48. is belong to class 3 with posterior = 1.000000 \t\t posterior of each class = 0.000000, 0.000000, 1.000000\n",
            "\t Correctly Classify\n",
            "\n",
            "\n",
            "49. is belong to class 3 with posterior = 1.000000 \t\t posterior of each class = 0.000000, 0.000000, 1.000000\n",
            "\t Correctly Classify\n",
            "\n",
            "\n",
            "50. is belong to class 3 with posterior = 1.000000 \t\t posterior of each class = 0.000000, 0.000000, 1.000000\n",
            "\t Correctly Classify\n",
            "\n",
            "\n",
            "51. is belong to class 3 with posterior = 1.000000 \t\t posterior of each class = 0.000000, 0.000000, 1.000000\n",
            "\t Correctly Classify\n",
            "\n",
            "\n",
            "52. is belong to class 3 with posterior = 1.000000 \t\t posterior of each class = 0.000000, 0.000000, 1.000000\n",
            "\t Correctly Classify\n",
            "\n",
            "\n",
            "53. is belong to class 3 with posterior = 1.000000 \t\t posterior of each class = 0.000000, 0.000000, 1.000000\n",
            "\t Correctly Classify\n",
            "\n",
            "\n",
            "54. is belong to class 3 with posterior = 1.000000 \t\t posterior of each class = 0.000000, 0.000000, 1.000000\n",
            "\t Correctly Classify\n",
            "\n",
            "\n"
          ],
          "name": "stdout"
        }
      ]
    },
    {
      "cell_type": "code",
      "metadata": {
        "id": "kAQLm3YxkSs4",
        "colab_type": "code",
        "outputId": "193eebc9-302f-4b3e-bf43-54b2ca50b48e",
        "colab": {
          "base_uri": "https://localhost:8080/",
          "height": 34
        }
      },
      "source": [
        "print('Accuracy Rate = %f' % (acc_seeds/len(ytest)))"
      ],
      "execution_count": 23,
      "outputs": [
        {
          "output_type": "stream",
          "text": [
            "Accuracy Rate = 0.925926\n"
          ],
          "name": "stdout"
        }
      ]
    },
    {
      "cell_type": "markdown",
      "metadata": {
        "id": "7OB8Y3h4qYiq",
        "colab_type": "text"
      },
      "source": [
        "# Discussion Characteristics and Plot the Visualized Result of Testing Data(20%)"
      ]
    },
    {
      "cell_type": "markdown",
      "metadata": {
        "id": "q4YRXzDfjC-z",
        "colab_type": "text"
      },
      "source": [
        "## 2-Dim PCA Visualization"
      ]
    },
    {
      "cell_type": "code",
      "metadata": {
        "id": "ZLSHFrNZqi_m",
        "colab_type": "code",
        "colab": {}
      },
      "source": [
        "from sklearn.decomposition import PCA"
      ],
      "execution_count": 0,
      "outputs": []
    },
    {
      "cell_type": "code",
      "metadata": {
        "id": "4agj61syfjG6",
        "colab_type": "code",
        "outputId": "642107e8-8429-40c6-84c0-5e79394b5829",
        "colab": {
          "base_uri": "https://localhost:8080/",
          "height": 935
        }
      },
      "source": [
        "pca = PCA(n_components=2 )\n",
        "pca.fit(xtest)\n",
        "\n",
        "new_xtest = pca.transform(xtest)\n",
        "new_xtest"
      ],
      "execution_count": 25,
      "outputs": [
        {
          "output_type": "execute_result",
          "data": {
            "text/plain": [
              "array([[ 5.26610183e+02,  1.03513126e+01],\n",
              "       [-1.83295528e+01,  1.88191644e+01],\n",
              "       [ 4.41117367e+02, -1.51621655e+01],\n",
              "       [ 2.81300829e+02, -4.08132853e+00],\n",
              "       [ 2.36364165e+02, -2.04207129e-01],\n",
              "       [ 9.12271937e+01, -5.24523957e+00],\n",
              "       [ 1.31447150e+02,  4.75163610e+00],\n",
              "       [ 3.76544708e+02,  8.21020927e+00],\n",
              "       [ 5.31393439e+02, -1.91272792e+00],\n",
              "       [ 7.61296988e+02, -8.14360010e+00],\n",
              "       [ 6.96443128e+02, -1.15749738e+00],\n",
              "       [ 1.61431339e+02,  4.33514165e+00],\n",
              "       [ 9.16355523e+01,  1.43557576e+01],\n",
              "       [ 3.66562410e+02,  9.44330067e+00],\n",
              "       [ 1.66291118e+02, -2.68888173e+00],\n",
              "       [ 2.61181931e+02, -9.61764580e+00],\n",
              "       [ 7.93246331e+02, -1.31780782e+01],\n",
              "       [ 5.36164081e+02, -1.40803196e+01],\n",
              "       [ 2.31989249e+02,  3.56085917e+01],\n",
              "       [-4.01872982e+02, -5.76481471e+00],\n",
              "       [-4.41743487e+02,  8.60443051e-01],\n",
              "       [-2.33834447e+02, -7.60396531e+00],\n",
              "       [-4.28833841e+02, -3.25779895e+00],\n",
              "       [-4.37211722e+01, -1.83646448e+00],\n",
              "       [-3.47835851e+02, -4.97020860e+00],\n",
              "       [-3.03900879e+02, -7.60554970e+00],\n",
              "       [-7.37814947e+01, -4.06081246e+00],\n",
              "       [-3.88596008e+02,  1.02603505e+01],\n",
              "       [-2.65948491e+02, -1.02905842e+01],\n",
              "       [-3.73958869e+02, -1.02984857e+01],\n",
              "       [-3.46776770e+01,  5.18563725e+01],\n",
              "       [-2.81890617e+02, -6.91586333e+00],\n",
              "       [-3.03604469e+02,  5.97276891e+00],\n",
              "       [-1.91507144e+02,  1.10937183e+01],\n",
              "       [-2.38933819e+02, -9.87251589e+00],\n",
              "       [-3.61858988e+02, -6.88579734e+00],\n",
              "       [ 2.61014973e+01, -1.10934505e+01],\n",
              "       [ 7.63335689e+01,  1.01656537e+00],\n",
              "       [-1.37751456e+01, -4.40720879e+00],\n",
              "       [-3.65094682e+00,  2.57237724e+00],\n",
              "       [-7.35301764e+01,  8.74619140e+00],\n",
              "       [-1.33859829e+02, -8.02805340e+00],\n",
              "       [-2.23559589e+02,  8.62128738e+00],\n",
              "       [-2.33875543e+02, -7.04587610e+00],\n",
              "       [-3.38991494e+01, -9.87233774e+00],\n",
              "       [-2.88166127e+01, -6.02011696e+00],\n",
              "       [-6.88888384e+01, -1.04426179e+01],\n",
              "       [-2.33708947e+02,  2.06353303e+00],\n",
              "       [-1.93696985e+02,  2.30717171e+00],\n",
              "       [-1.83537156e+02,  9.97423538e+00],\n",
              "       [-2.33867093e+02, -7.14566298e+00],\n",
              "       [-1.28930001e+02, -1.11222126e+01],\n",
              "       [-2.03797973e+02, -3.71896046e+00],\n",
              "       [-5.84584518e+01,  1.25109210e+01]])"
            ]
          },
          "metadata": {
            "tags": []
          },
          "execution_count": 25
        }
      ]
    },
    {
      "cell_type": "code",
      "metadata": {
        "id": "vZnRbg-egGXT",
        "colab_type": "code",
        "outputId": "69c39943-19c2-4537-f70e-ed751a8d8cd0",
        "colab": {
          "base_uri": "https://localhost:8080/",
          "height": 609
        }
      },
      "source": [
        "plt.figure(figsize=(10,10))\n",
        "plt.scatter(new_xtest[:,0], new_xtest[:,1], c=ytest, marker='o')"
      ],
      "execution_count": 26,
      "outputs": [
        {
          "output_type": "execute_result",
          "data": {
            "text/plain": [
              "<matplotlib.collections.PathCollection at 0x7fd3c8c49630>"
            ]
          },
          "metadata": {
            "tags": []
          },
          "execution_count": 26
        },
        {
          "output_type": "display_data",
          "data": {
            "image/png": "[encoded data removed]",
            "text/plain": [
              "<Figure size 720x720 with 1 Axes>"
            ]
          },
          "metadata": {
            "tags": [],
            "needs_background": "light"
          }
        }
      ]
    },
    {
      "cell_type": "markdown",
      "metadata": {
        "id": "1Wqym2agjJS-",
        "colab_type": "text"
      },
      "source": [
        "## 3-Dim PCA Visualization"
      ]
    },
    {
      "cell_type": "code",
      "metadata": {
        "id": "cA654rmLjhjn",
        "colab_type": "code",
        "colab": {}
      },
      "source": [
        "from mpl_toolkits.mplot3d import Axes3D"
      ],
      "execution_count": 0,
      "outputs": []
    },
    {
      "cell_type": "code",
      "metadata": {
        "id": "2q7xbFnwgX6L",
        "colab_type": "code",
        "outputId": "39d9e040-55a8-4379-c1eb-da1421142781",
        "colab": {
          "base_uri": "https://localhost:8080/",
          "height": 935
        }
      },
      "source": [
        "pca3d = PCA(n_components=3)\n",
        "pca3d.fit(xtest)\n",
        "new_xtest3d = pca3d.transform(xtest)\n",
        "new_xtest3d"
      ],
      "execution_count": 28,
      "outputs": [
        {
          "output_type": "execute_result",
          "data": {
            "text/plain": [
              "array([[ 5.26610183e+02,  1.03513126e+01, -1.68826277e+00],\n",
              "       [-1.83295528e+01,  1.88191644e+01,  1.66293793e-01],\n",
              "       [ 4.41117367e+02, -1.51621655e+01,  1.59125091e+00],\n",
              "       [ 2.81300829e+02, -4.08132853e+00,  2.53617782e+00],\n",
              "       [ 2.36364165e+02, -2.04207129e-01,  2.20908585e+00],\n",
              "       [ 9.12271937e+01, -5.24523957e+00,  5.96246542e-02],\n",
              "       [ 1.31447150e+02,  4.75163610e+00,  2.75536577e+00],\n",
              "       [ 3.76544708e+02,  8.21020927e+00, -1.27145964e+00],\n",
              "       [ 5.31393439e+02, -1.91272792e+00,  8.31093455e-01],\n",
              "       [ 7.61296988e+02, -8.14360010e+00, -2.60373963e+00],\n",
              "       [ 6.96443128e+02, -1.15749738e+00,  1.57591970e+00],\n",
              "       [ 1.61431339e+02,  4.33514165e+00,  4.76622904e-01],\n",
              "       [ 9.16355523e+01,  1.43557576e+01,  4.67228041e+00],\n",
              "       [ 3.66562410e+02,  9.44330067e+00, -1.54091373e+00],\n",
              "       [ 1.66291118e+02, -2.68888173e+00, -1.00664120e+00],\n",
              "       [ 2.61181931e+02, -9.61764580e+00,  1.19542405e+00],\n",
              "       [ 7.93246331e+02, -1.31780782e+01,  3.48092130e+00],\n",
              "       [ 5.36164081e+02, -1.40803196e+01,  2.49771190e+00],\n",
              "       [ 2.31989249e+02,  3.56085917e+01, -7.72452822e+00],\n",
              "       [-4.01872982e+02, -5.76481471e+00,  3.57000711e-01],\n",
              "       [-4.41743487e+02,  8.60443051e-01,  3.46794474e+00],\n",
              "       [-2.33834447e+02, -7.60396531e+00,  1.01564579e+01],\n",
              "       [-4.28833841e+02, -3.25779895e+00,  1.36674982e+00],\n",
              "       [-4.37211722e+01, -1.83646448e+00,  3.01566470e+00],\n",
              "       [-3.47835851e+02, -4.97020860e+00,  3.71623587e+00],\n",
              "       [-3.03900879e+02, -7.60554970e+00, -6.57017212e-01],\n",
              "       [-7.37814947e+01, -4.06081246e+00,  1.13643907e+00],\n",
              "       [-3.88596008e+02,  1.02603505e+01, -3.64888659e+00],\n",
              "       [-2.65948491e+02, -1.02905842e+01, -1.32428279e+00],\n",
              "       [-3.73958869e+02, -1.02984857e+01,  5.06045629e-01],\n",
              "       [-3.46776770e+01,  5.18563725e+01,  6.25113022e+00],\n",
              "       [-2.81890617e+02, -6.91586333e+00, -2.61209033e+00],\n",
              "       [-3.03604469e+02,  5.97276891e+00,  4.04766072e+00],\n",
              "       [-1.91507144e+02,  1.10937183e+01,  2.25123780e+00],\n",
              "       [-2.38933819e+02, -9.87251589e+00, -2.27422822e+00],\n",
              "       [-3.61858988e+02, -6.88579734e+00,  5.01197600e+00],\n",
              "       [ 2.61014973e+01, -1.10934505e+01, -1.10157971e+00],\n",
              "       [ 7.63335689e+01,  1.01656537e+00, -1.36046430e+00],\n",
              "       [-1.37751456e+01, -4.40720879e+00, -2.33811994e+00],\n",
              "       [-3.65094682e+00,  2.57237724e+00, -3.92524290e+00],\n",
              "       [-7.35301764e+01,  8.74619140e+00, -1.07519475e-01],\n",
              "       [-1.33859829e+02, -8.02805340e+00, -4.35192238e+00],\n",
              "       [-2.23559589e+02,  8.62128738e+00,  6.57619380e-01],\n",
              "       [-2.33875543e+02, -7.04587610e+00, -2.98645778e+00],\n",
              "       [-3.38991494e+01, -9.87233774e+00, -1.64645581e+00],\n",
              "       [-2.88166127e+01, -6.02011696e+00, -3.69690589e+00],\n",
              "       [-6.88888384e+01, -1.04426179e+01, -1.83530435e+00],\n",
              "       [-2.33708947e+02,  2.06353303e+00, -2.60417464e+00],\n",
              "       [-1.93696985e+02,  2.30717171e+00, -3.42835457e+00],\n",
              "       [-1.83537156e+02,  9.97423538e+00, -1.37258775e+00],\n",
              "       [-2.33867093e+02, -7.14566298e+00, -1.71167886e+00],\n",
              "       [-1.28930001e+02, -1.11222126e+01, -2.92216308e+00],\n",
              "       [-2.03797973e+02, -3.71896046e+00,  3.04832699e-02],\n",
              "       [-5.84584518e+01,  1.25109210e+01, -4.27943655e+00]])"
            ]
          },
          "metadata": {
            "tags": []
          },
          "execution_count": 28
        }
      ]
    },
    {
      "cell_type": "code",
      "metadata": {
        "id": "4sFklegvhZxl",
        "colab_type": "code",
        "outputId": "4775c300-e243-4882-fd17-c142aed3c683",
        "colab": {
          "base_uri": "https://localhost:8080/",
          "height": 592
        }
      },
      "source": [
        "fig = plt.figure(figsize=(10,10))\n",
        "ax = fig.add_subplot(111, projection='3d')\n",
        "ax.scatter(new_xtest3d[:,0], new_xtest3d[:,1], zs = new_xtest3d[:,2], c=ytest)"
      ],
      "execution_count": 29,
      "outputs": [
        {
          "output_type": "execute_result",
          "data": {
            "text/plain": [
              "<mpl_toolkits.mplot3d.art3d.Path3DCollection at 0x7fd3c8bb4470>"
            ]
          },
          "metadata": {
            "tags": []
          },
          "execution_count": 29
        },
        {
          "output_type": "display_data",
          "data": {
            "image/png": "[encoded data removed]",
            "text/plain": [
              "<Figure size 720x720 with 1 Axes>"
            ]
          },
          "metadata": {
            "tags": [],
            "needs_background": "light"
          }
        }
      ]
    },
    {
      "cell_type": "markdown",
      "metadata": {
        "id": "2q8ZaYK6to1v",
        "colab_type": "text"
      },
      "source": [
        "## Characteristics of Data"
      ]
    },
    {
      "cell_type": "code",
      "metadata": {
        "id": "lf0xxhuABTJf",
        "colab_type": "code",
        "colab": {}
      },
      "source": [
        "train, test = ran_split(wine,[], [])\n",
        "xtrain, xtest, ytrain, ytest = modify_data(train, test)"
      ],
      "execution_count": 0,
      "outputs": []
    },
    {
      "cell_type": "code",
      "metadata": {
        "id": "1Cd_aweAj8Hz",
        "colab_type": "code",
        "outputId": "45fd4b95-504e-48b3-9742-e0f4a9ef6e5e",
        "colab": {
          "base_uri": "https://localhost:8080/",
          "height": 136
        }
      },
      "source": [
        "from xgboost import XGBClassifier\n",
        "xgbc = XGBClassifier()\n",
        "xgbc.fit(xtrain, ytrain)"
      ],
      "execution_count": 31,
      "outputs": [
        {
          "output_type": "execute_result",
          "data": {
            "text/plain": [
              "XGBClassifier(base_score=0.5, booster='gbtree', colsample_bylevel=1,\n",
              "              colsample_bynode=1, colsample_bytree=1, gamma=0,\n",
              "              learning_rate=0.1, max_delta_step=0, max_depth=3,\n",
              "              min_child_weight=1, missing=None, n_estimators=100, n_jobs=1,\n",
              "              nthread=None, objective='multi:softprob', random_state=0,\n",
              "              reg_alpha=0, reg_lambda=1, scale_pos_weight=1, seed=None,\n",
              "              silent=None, subsample=1, verbosity=1)"
            ]
          },
          "metadata": {
            "tags": []
          },
          "execution_count": 31
        }
      ]
    },
    {
      "cell_type": "code",
      "metadata": {
        "id": "OYE0-PxcuSPI",
        "colab_type": "code",
        "outputId": "6c1d70d8-02f7-434c-9b8f-d30623615eaf",
        "colab": {
          "base_uri": "https://localhost:8080/",
          "height": 85
        }
      },
      "source": [
        "xgbc.predict(xtest)"
      ],
      "execution_count": 32,
      "outputs": [
        {
          "output_type": "execute_result",
          "data": {
            "text/plain": [
              "array([1., 1., 1., 1., 1., 1., 1., 1., 1., 1., 1., 1., 1., 1., 1., 1., 1.,\n",
              "       1., 2., 2., 2., 2., 2., 2., 2., 2., 2., 2., 2., 2., 2., 2., 2., 2.,\n",
              "       2., 2., 3., 3., 3., 3., 3., 3., 3., 3., 3., 3., 3., 3., 3., 2., 3.,\n",
              "       3., 3., 3.])"
            ]
          },
          "metadata": {
            "tags": []
          },
          "execution_count": 32
        }
      ]
    },
    {
      "cell_type": "code",
      "metadata": {
        "id": "hKwxpMl0ulLZ",
        "colab_type": "code",
        "outputId": "6c97f49b-c3d8-48ad-e7fa-0a98290046ef",
        "colab": {
          "base_uri": "https://localhost:8080/",
          "height": 889
        }
      },
      "source": [
        "plt.figure(figsize=(30,20))\n",
        "plt.bar([ 'Alcohol',\n",
        " 'Malic_acid',\n",
        " 'Ash',\n",
        " 'Alcalinity_of_ash',\n",
        " 'Magnesium',\n",
        " 'Total_phenols',\n",
        " 'Flavanoids',\n",
        " 'Nonflavanoid_phenols',\n",
        " 'Proanthocyanins',\n",
        " 'Color_intensity',\n",
        " 'Hue',\n",
        " 'OD280/OD315_of_diluted_wines',\n",
        " 'Proline'], xgbc.feature_importances_ )"
      ],
      "execution_count": 33,
      "outputs": [
        {
          "output_type": "execute_result",
          "data": {
            "text/plain": [
              "<BarContainer object of 13 artists>"
            ]
          },
          "metadata": {
            "tags": []
          },
          "execution_count": 33
        },
        {
          "output_type": "display_data",
          "data": {
            "image/png": "[encoded data removed]",
            "text/plain": [
              "<Figure size 2160x1440 with 1 Axes>"
            ]
          },
          "metadata": {
            "tags": [],
            "needs_background": "light"
          }
        }
      ]
    }
  ]
}