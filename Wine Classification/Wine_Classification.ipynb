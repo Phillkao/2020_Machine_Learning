{
  "nbformat": 4,
  "nbformat_minor": 0,
  "metadata": {
    "colab": {
      "name": "HW1_ML_Wine_Classification",
      "provenance": [],
      "collapsed_sections": [
        "BKm12rEo_E27",
        "jQQI7WiMfjK5",
        "4iYox036fng3",
        "Re5BvYP_gOjZ"
      ]
    },
    "kernelspec": {
      "name": "python3",
      "display_name": "Python 3"
    }
  },
  "cells": [
    {
      "cell_type": "markdown",
      "metadata": {
        "id": "LMtYlGEYmXV3",
        "colab_type": "text"
      },
      "source": [
        "# READ wine.csv (30%)"
      ]
    },
    {
      "cell_type": "code",
      "metadata": {
        "id": "jmaZH0tyj7WY",
        "colab_type": "code",
        "colab": {}
      },
      "source": [
        "import pandas as pd\n",
        "import numpy as np\n",
        "import matplotlib.pyplot as plt\n",
        "from sklearn.model_selection import train_test_split"
      ],
      "execution_count": 0,
      "outputs": []
    },
    {
      "cell_type": "code",
      "metadata": {
        "id": "A-NCU21vkePj",
        "colab_type": "code",
        "outputId": "5cc7ac9e-2a02-4730-bf3a-80d1a9d078d8",
        "colab": {
          "base_uri": "https://localhost:8080/",
          "height": 204
        }
      },
      "source": [
        "names = ['Type', 'Alcohol','Malic_acid','Ash','Alcalinity_of_ash', 'Magnesium','Total_phenols','Flavanoids', 'Nonflavanoid_phenols', 'Proanthocyanins', 'Color_intensity', 'Hue','OD280/OD315_of_diluted_wines', 'Proline']\n",
        "data = pd.read_csv('Wine.csv', names = names)\n",
        "data.head()"
      ],
      "execution_count": 16,
      "outputs": [
        {
          "output_type": "execute_result",
          "data": {
            "text/html": [
              "<div>\n",
              "<style scoped>\n",
              "    .dataframe tbody tr th:only-of-type {\n",
              "        vertical-align: middle;\n",
              "    }\n",
              "\n",
              "    .dataframe tbody tr th {\n",
              "        vertical-align: top;\n",
              "    }\n",
              "\n",
              "    .dataframe thead th {\n",
              "        text-align: right;\n",
              "    }\n",
              "</style>\n",
              "<table border=\"1\" class=\"dataframe\">\n",
              "  <thead>\n",
              "    <tr style=\"text-align: right;\">\n",
              "      <th></th>\n",
              "      <th>Type</th>\n",
              "      <th>Alcohol</th>\n",
              "      <th>Malic_acid</th>\n",
              "      <th>Ash</th>\n",
              "      <th>Alcalinity_of_ash</th>\n",
              "      <th>Magnesium</th>\n",
              "      <th>Total_phenols</th>\n",
              "      <th>Flavanoids</th>\n",
              "      <th>Nonflavanoid_phenols</th>\n",
              "      <th>Proanthocyanins</th>\n",
              "      <th>Color_intensity</th>\n",
              "      <th>Hue</th>\n",
              "      <th>OD280/OD315_of_diluted_wines</th>\n",
              "      <th>Proline</th>\n",
              "    </tr>\n",
              "  </thead>\n",
              "  <tbody>\n",
              "    <tr>\n",
              "      <th>0</th>\n",
              "      <td>1</td>\n",
              "      <td>14.23</td>\n",
              "      <td>1.71</td>\n",
              "      <td>2.43</td>\n",
              "      <td>15.6</td>\n",
              "      <td>127</td>\n",
              "      <td>2.80</td>\n",
              "      <td>3.06</td>\n",
              "      <td>0.28</td>\n",
              "      <td>2.29</td>\n",
              "      <td>5.64</td>\n",
              "      <td>1.04</td>\n",
              "      <td>3.92</td>\n",
              "      <td>1065</td>\n",
              "    </tr>\n",
              "    <tr>\n",
              "      <th>1</th>\n",
              "      <td>1</td>\n",
              "      <td>13.20</td>\n",
              "      <td>1.78</td>\n",
              "      <td>2.14</td>\n",
              "      <td>11.2</td>\n",
              "      <td>100</td>\n",
              "      <td>2.65</td>\n",
              "      <td>2.76</td>\n",
              "      <td>0.26</td>\n",
              "      <td>1.28</td>\n",
              "      <td>4.38</td>\n",
              "      <td>1.05</td>\n",
              "      <td>3.40</td>\n",
              "      <td>1050</td>\n",
              "    </tr>\n",
              "    <tr>\n",
              "      <th>2</th>\n",
              "      <td>1</td>\n",
              "      <td>13.16</td>\n",
              "      <td>2.36</td>\n",
              "      <td>2.67</td>\n",
              "      <td>18.6</td>\n",
              "      <td>101</td>\n",
              "      <td>2.80</td>\n",
              "      <td>3.24</td>\n",
              "      <td>0.30</td>\n",
              "      <td>2.81</td>\n",
              "      <td>5.68</td>\n",
              "      <td>1.03</td>\n",
              "      <td>3.17</td>\n",
              "      <td>1185</td>\n",
              "    </tr>\n",
              "    <tr>\n",
              "      <th>3</th>\n",
              "      <td>1</td>\n",
              "      <td>14.37</td>\n",
              "      <td>1.95</td>\n",
              "      <td>2.50</td>\n",
              "      <td>16.8</td>\n",
              "      <td>113</td>\n",
              "      <td>3.85</td>\n",
              "      <td>3.49</td>\n",
              "      <td>0.24</td>\n",
              "      <td>2.18</td>\n",
              "      <td>7.80</td>\n",
              "      <td>0.86</td>\n",
              "      <td>3.45</td>\n",
              "      <td>1480</td>\n",
              "    </tr>\n",
              "    <tr>\n",
              "      <th>4</th>\n",
              "      <td>1</td>\n",
              "      <td>13.24</td>\n",
              "      <td>2.59</td>\n",
              "      <td>2.87</td>\n",
              "      <td>21.0</td>\n",
              "      <td>118</td>\n",
              "      <td>2.80</td>\n",
              "      <td>2.69</td>\n",
              "      <td>0.39</td>\n",
              "      <td>1.82</td>\n",
              "      <td>4.32</td>\n",
              "      <td>1.04</td>\n",
              "      <td>2.93</td>\n",
              "      <td>735</td>\n",
              "    </tr>\n",
              "  </tbody>\n",
              "</table>\n",
              "</div>"
            ],
            "text/plain": [
              "   Type  Alcohol  Malic_acid  ...   Hue  OD280/OD315_of_diluted_wines  Proline\n",
              "0     1    14.23        1.71  ...  1.04                          3.92     1065\n",
              "1     1    13.20        1.78  ...  1.05                          3.40     1050\n",
              "2     1    13.16        2.36  ...  1.03                          3.17     1185\n",
              "3     1    14.37        1.95  ...  0.86                          3.45     1480\n",
              "4     1    13.24        2.59  ...  1.04                          2.93      735\n",
              "\n",
              "[5 rows x 14 columns]"
            ]
          },
          "metadata": {
            "tags": []
          },
          "execution_count": 16
        }
      ]
    },
    {
      "cell_type": "markdown",
      "metadata": {
        "id": "VnRcct2Vzf6R",
        "colab_type": "text"
      },
      "source": [
        "## Split data"
      ]
    },
    {
      "cell_type": "code",
      "metadata": {
        "id": "NqWVij6tdBDw",
        "colab_type": "code",
        "colab": {}
      },
      "source": [
        "#Writing data into dictionay\n",
        "wine = {}\n",
        "for types in range(1,4):\n",
        "  wine[types] = data[data.Type == types].values"
      ],
      "execution_count": 0,
      "outputs": []
    },
    {
      "cell_type": "markdown",
      "metadata": {
        "id": "avxhJL47mWik",
        "colab_type": "text"
      },
      "source": [
        "### 1. Split through\n",
        "\n",
        "```\n",
        "sklearn.model_selection  train_test_split\n",
        "```\n",
        "\n"
      ]
    },
    {
      "cell_type": "code",
      "metadata": {
        "id": "rfDPdHeSoqbT",
        "colab_type": "code",
        "colab": {}
      },
      "source": [
        "def ran_split(wine: dict, xtrain: list, xtest: list):\n",
        "  for types in range(1,4):\n",
        "    train, test = train_test_split(wine[types], test_size = 18, shuffle =True)\n",
        "    xtrain.extend(train)\n",
        "    xtest.extend(test)\n",
        "  xtrain = np.array(xtrain)\n",
        "  xtest = np.array(xtest)\n",
        "  return xtrain, xtest"
      ],
      "execution_count": 0,
      "outputs": []
    },
    {
      "cell_type": "code",
      "metadata": {
        "id": "l-g8fFJwdZ6A",
        "colab_type": "code",
        "colab": {}
      },
      "source": [
        "xtrain, xtest = ran_split(wine, [], [])"
      ],
      "execution_count": 0,
      "outputs": []
    },
    {
      "cell_type": "code",
      "metadata": {
        "id": "v6D7g55TdULb",
        "colab_type": "code",
        "outputId": "c0c6b6d7-afa6-4a76-cd05-03ef5330274d",
        "colab": {
          "base_uri": "https://localhost:8080/",
          "height": 34
        }
      },
      "source": [
        "xtrain.shape"
      ],
      "execution_count": 57,
      "outputs": [
        {
          "output_type": "execute_result",
          "data": {
            "text/plain": [
              "(124, 14)"
            ]
          },
          "metadata": {
            "tags": []
          },
          "execution_count": 57
        }
      ]
    },
    {
      "cell_type": "code",
      "metadata": {
        "id": "LoQb4uh-zKcJ",
        "colab_type": "code",
        "outputId": "d2cc7b73-d6ef-46e5-9982-bb7bc43462e5",
        "colab": {
          "base_uri": "https://localhost:8080/",
          "height": 34
        }
      },
      "source": [
        "xtest.shape"
      ],
      "execution_count": 58,
      "outputs": [
        {
          "output_type": "execute_result",
          "data": {
            "text/plain": [
              "(54, 14)"
            ]
          },
          "metadata": {
            "tags": []
          },
          "execution_count": 58
        }
      ]
    },
    {
      "cell_type": "markdown",
      "metadata": {
        "id": "2KxBst9XzVbR",
        "colab_type": "text"
      },
      "source": [
        "### 2. Split by hand"
      ]
    },
    {
      "cell_type": "code",
      "metadata": {
        "id": "T6vgSq9LzSVg",
        "colab_type": "code",
        "colab": {}
      },
      "source": [
        "def ran_split2(wine: dict, xtrain: list, xtest: list):\n",
        "  for types in range(1,4):\n",
        "    seeds = np.random.choice(range(len(wine[types])),size = 18, replace= False)\n",
        "    for i in range(len(wine[types])):\n",
        "        if (i in seeds):\n",
        "          xtest.extend(wine[types][i].reshape(1,-1)) \n",
        "        else:\n",
        "          xtrain.extend(wine[types][i].reshape(1,-1))\n",
        "\n",
        "  xtrain = np.array(xtrain)\n",
        "  xtest = np.array(xtest)\n",
        "  return xtrain, xtest"
      ],
      "execution_count": 0,
      "outputs": []
    },
    {
      "cell_type": "code",
      "metadata": {
        "id": "_X4dN_Ig9xRE",
        "colab_type": "code",
        "colab": {}
      },
      "source": [
        "xtrain2, xtest2 = ran_split2(wine, [], [])"
      ],
      "execution_count": 0,
      "outputs": []
    },
    {
      "cell_type": "code",
      "metadata": {
        "id": "xYlm3w9Q1ORf",
        "colab_type": "code",
        "outputId": "cf435f40-43ed-45b6-c1fc-86749b2e6503",
        "colab": {
          "base_uri": "https://localhost:8080/",
          "height": 34
        }
      },
      "source": [
        "xtrain2.shape"
      ],
      "execution_count": 12,
      "outputs": [
        {
          "output_type": "execute_result",
          "data": {
            "text/plain": [
              "(124, 14)"
            ]
          },
          "metadata": {
            "tags": []
          },
          "execution_count": 12
        }
      ]
    },
    {
      "cell_type": "code",
      "metadata": {
        "id": "GWMCcsyG-e0q",
        "colab_type": "code",
        "outputId": "688b3c4d-a3e8-4838-d900-b28528ea650c",
        "colab": {
          "base_uri": "https://localhost:8080/",
          "height": 34
        }
      },
      "source": [
        "xtest2.shape"
      ],
      "execution_count": 13,
      "outputs": [
        {
          "output_type": "execute_result",
          "data": {
            "text/plain": [
              "(54, 14)"
            ]
          },
          "metadata": {
            "tags": []
          },
          "execution_count": 13
        }
      ]
    },
    {
      "cell_type": "markdown",
      "metadata": {
        "id": "BKm12rEo_E27",
        "colab_type": "text"
      },
      "source": [
        "## Save train.csv and test.csv"
      ]
    },
    {
      "cell_type": "code",
      "metadata": {
        "id": "0FzXMVJ__ETN",
        "colab_type": "code",
        "colab": {}
      },
      "source": [
        "Train = pd.DataFrame(xtrain,columns = ['Type', 'Alcohol','Malic_acid','Ash','Alcalinity_of_ash', 'Magnesium','Total_phenols','Flavanoids', 'Nonflavanoid_phenols', 'Proanthocyanins', 'Color_intensity', 'Hue','OD280/OD315_of_diluted_wines', 'Proline'])\n",
        "Test = pd.DataFrame(xtest, columns = ['Type', 'Alcohol','Malic_acid','Ash','Alcalinity_of_ash', 'Magnesium','Total_phenols','Flavanoids', 'Nonflavanoid_phenols', 'Proanthocyanins', 'Color_intensity', 'Hue','OD280/OD315_of_diluted_wines', 'Proline'] )\n",
        "\n",
        "Train.to_csv('Train.csv', index = False)\n",
        "Test.to_csv('Test.csv', index = False)"
      ],
      "execution_count": 0,
      "outputs": []
    },
    {
      "cell_type": "markdown",
      "metadata": {
        "id": "EZtkE8hW7Tgx",
        "colab_type": "text"
      },
      "source": [
        "# Evaluate the Posterior Probabilities and Camparing with MAP (50%)"
      ]
    },
    {
      "cell_type": "code",
      "metadata": {
        "id": "Kp5dAxfjVvXx",
        "colab_type": "code",
        "colab": {}
      },
      "source": [
        "def modify_data(train, test):\n",
        "  ytrain = train.T[0]\n",
        "  xtrain = train[:,1:]\n",
        "  ytest = test.T[0]\n",
        "  xtest = test[:,1:]\n",
        "  return xtrain, xtest, ytrain, ytest"
      ],
      "execution_count": 0,
      "outputs": []
    },
    {
      "cell_type": "markdown",
      "metadata": {
        "id": "4dgb5YRdgIGJ",
        "colab_type": "text"
      },
      "source": [
        "## Evaluate Prior distribution\n",
        "\n",
        "$$ p(Class 1) = \\frac{C1}{C1+C2+C3} $$\n",
        "$$ p(Class 2) = \\frac{C2}{C1+C2+C3} $$\n",
        "$$ p(Class 3) = \\frac{C3}{C1+C2+C3} $$\n"
      ]
    },
    {
      "cell_type": "code",
      "metadata": {
        "id": "A_QepdYAvn7r",
        "colab_type": "code",
        "colab": {}
      },
      "source": [
        "def cal_prior(train): \n",
        "  prior_1 = len(train[ytrain == 1])/ len(train)\n",
        "  prior_2 = len(train[ytrain == 2])/ len(train)\n",
        "  prior_3 = len(train[ytrain == 3])/ len(train)\n",
        "  return prior_1, prior_2, prior_3"
      ],
      "execution_count": 0,
      "outputs": []
    },
    {
      "cell_type": "code",
      "metadata": {
        "id": "ocIJOJF1btj_",
        "colab_type": "code",
        "colab": {
          "base_uri": "https://localhost:8080/",
          "height": 34
        },
        "outputId": "07ff60e8-0571-4921-feea-ed77a74941dd"
      },
      "source": [
        "xtrain, xtest, ytrain, ytest = modify_data(xtrain, xtest)\n",
        "prior_1, prior_2, prior_3 = cal_prior(ytrain)\n",
        "print(prior_1, prior_2, prior_3)"
      ],
      "execution_count": 62,
      "outputs": [
        {
          "output_type": "stream",
          "text": [
            "0.33064516129032256 0.4274193548387097 0.24193548387096775\n"
          ],
          "name": "stdout"
        }
      ]
    },
    {
      "cell_type": "markdown",
      "metadata": {
        "id": "TnOMRgr2hx5R",
        "colab_type": "text"
      },
      "source": [
        "## Learning likelihood function \n",
        "\n",
        "Using <font color=#0099ff face=\"Times\">***probablity densinty distribution***</font> of <font color=#0099ff face=\"Times\"> ***Guassian Distribution*** </font> to learn likelihooh function of each class. \n",
        "\n",
        "Because there are 13 features in this case ,we use  <font color=#FF0000 face=\"Times\" size = 5>  ***Multivariate Guassian Distribution*** </font>\n",
        "\n",
        "<br>$$P(x;\\mu, \\Sigma) =  \\frac{1}{( 2\\pi )^{D/2} \\times |\\Sigma| ^{1/2}} \\times \\exp (-\\frac {1}{2} \\times {(x-\\mu)^{T}} \\cdot \\Sigma^{-1}  \\cdot (x - \\mu))  $$      \n",
        "<br>\n",
        "* $ D$ : dimension of $x$ (features)\n",
        "\n",
        "* $ \\mu = \\frac{1}{n} {\\sum_1^n}x$\n",
        "\n",
        "* $ \\Sigma = Coveriance(x),　size = (D,D)$\n",
        "\n",
        "\n",
        "\n",
        "\n"
      ]
    },
    {
      "cell_type": "code",
      "metadata": {
        "id": "ZBJld3obnGdy",
        "colab_type": "code",
        "colab": {}
      },
      "source": [
        "## sampling data with multivariate guassian distribution\n",
        "def multivariate_guassian(x, d, mean, sigma):\n",
        "  x = x.reshape(13,1)\n",
        "  exp = (np.exp((-1/2) * (x-mean).T @ np.linalg.inv(sigma) @ (x - mean))).item()\n",
        "  return (1 / (2 * np.pi)** (d/2) ) * np.sqrt(np.linalg.det(sigma)) *exp"
      ],
      "execution_count": 0,
      "outputs": []
    },
    {
      "cell_type": "markdown",
      "metadata": {
        "id": "4V6UYQPmNLEO",
        "colab_type": "text"
      },
      "source": [
        "### To learning likelihood function of each group, we have to estimate their parameters $\\mu$ and $\\Sigma$"
      ]
    },
    {
      "cell_type": "code",
      "metadata": {
        "id": "NS9xVZfoVJ-S",
        "colab_type": "code",
        "colab": {}
      },
      "source": [
        "def parameters(x: np.array):\n",
        "  mean = (np.sum(x, axis = 0) / len(x)).reshape(13,1)\n",
        "  cov = np.cov(x.T)\n",
        "  return mean, cov"
      ],
      "execution_count": 0,
      "outputs": []
    },
    {
      "cell_type": "markdown",
      "metadata": {
        "id": "jQQI7WiMfjK5",
        "colab_type": "text"
      },
      "source": [
        "#### $\\mu$ and $\\Sigma$ of Class 1"
      ]
    },
    {
      "cell_type": "code",
      "metadata": {
        "id": "jNZex0Ycw08c",
        "colab_type": "code",
        "colab": {}
      },
      "source": [
        "mean, cov = parameters(xtrain[:41,:])\n",
        "print(mean)\n",
        "print(cov)"
      ],
      "execution_count": 0,
      "outputs": []
    },
    {
      "cell_type": "markdown",
      "metadata": {
        "id": "4iYox036fng3",
        "colab_type": "text"
      },
      "source": [
        "#### $\\mu$ and $\\Sigma$ of Class 2"
      ]
    },
    {
      "cell_type": "code",
      "metadata": {
        "id": "AqcYJ3T8fplj",
        "colab_type": "code",
        "outputId": "56f94fdb-21d5-4c29-cc6e-eba116b9ce43",
        "colab": {
          "base_uri": "https://localhost:8080/",
          "height": 1000
        }
      },
      "source": [
        "mean, cov = parameters(xtrain[41:94,:])\n",
        "print(mean)\n",
        "print(cov)"
      ],
      "execution_count": 51,
      "outputs": [
        {
          "output_type": "stream",
          "text": [
            "[[1.22956604e+01]\n",
            " [1.82547170e+00]\n",
            " [2.22698113e+00]\n",
            " [1.99924528e+01]\n",
            " [9.23773585e+01]\n",
            " [2.09641509e+00]\n",
            " [1.91603774e+00]\n",
            " [3.77924528e-01]\n",
            " [1.51698113e+00]\n",
            " [3.09358491e+00]\n",
            " [1.07086792e+00]\n",
            " [2.66981132e+00]\n",
            " [5.16358491e+02]]\n",
            "[[ 2.87336575e-01  3.64068940e-02 -3.53075835e-02 -6.24756894e-02\n",
            "  -5.50446299e-01  3.94952830e-03  4.69209361e-02 -1.19784107e-02\n",
            "  -1.38075835e-02  1.79988933e-01 -1.77473149e-02 -5.99891147e-03\n",
            "  -9.44952830e-01]\n",
            " [ 3.64068940e-02  8.73159869e-01  2.18822206e-02  4.84195936e-01\n",
            "  -1.36306604e+00 -5.01319303e-02 -1.93682874e-02  2.03673440e-02\n",
            "   1.09552975e-02 -1.24006531e-01 -7.99098403e-02  2.77914369e-02\n",
            "  -1.91958454e+01]\n",
            " [-3.53075835e-02  2.18822206e-02  8.43137881e-02  5.92649855e-01\n",
            "   3.85968795e-01  6.20464441e-05  2.66185776e-02  1.09589985e-02\n",
            "   2.51464804e-02 -5.50243106e-03  3.28113208e-03  6.81288099e-03\n",
            "  -5.85820029e-01]\n",
            " [-6.24756894e-02  4.84195936e-01  5.92649855e-01  9.81724964e+00\n",
            "  -1.08297896e+01 -1.76044993e-02  3.29719521e-01  1.00445573e-01\n",
            "   2.73149855e-01 -5.41164731e-01 -3.88510160e-02  4.82748549e-01\n",
            "  -5.34414731e+01]\n",
            " [-5.50446299e-01 -1.36306604e+00  3.85968795e-01 -1.08297896e+01\n",
            "   2.38508708e+02 -3.32467344e-01 -6.94245283e-01 -2.79778665e-01\n",
            "   2.86808418e+00  4.03519594e-02  3.01704644e-01 -1.89665820e+00\n",
            "   9.31881350e+02]\n",
            " [ 3.94952830e-03 -5.01319303e-02  6.20464441e-05 -1.76044993e-02\n",
            "  -3.32467344e-01  2.42519594e-01  2.26889369e-01 -2.69806604e-02\n",
            "   7.23620464e-02  5.80034833e-02  1.82627866e-02  8.67877721e-02\n",
            "  -1.07704209e+01]\n",
            " [ 4.69209361e-02 -1.93682874e-02  2.66185776e-02  3.29719521e-01\n",
            "  -6.94245283e-01  2.26889369e-01  3.36701306e-01 -2.30737663e-02\n",
            "   1.52583962e-01  1.52964478e-01  9.48427431e-03  1.30870392e-01\n",
            "  -1.27470138e+01]\n",
            " [-1.19784107e-02  2.03673440e-02  1.09589985e-02  1.00445573e-01\n",
            "  -2.79778665e-01 -2.69806604e-02 -2.30737663e-02  1.54090711e-02\n",
            "  -1.47833091e-02 -7.12626996e-05 -1.91854862e-03 -2.23523222e-02\n",
            "  -9.68857039e-01]\n",
            " [-1.38075835e-02  1.09552975e-02  2.51464804e-02  2.73149855e-01\n",
            "   2.86808418e+00  7.23620464e-02  1.52583962e-01 -1.47833091e-02\n",
            "   2.61029173e-01 -5.92024311e-02 -1.84079100e-03  7.32571118e-02\n",
            "   1.49191800e+01]\n",
            " [ 1.79988933e-01 -1.24006531e-01 -5.50243106e-03 -5.41164731e-01\n",
            "   4.03519594e-02  5.80034833e-02  1.52964478e-01 -7.12626996e-05\n",
            "  -5.92024311e-02  8.12523440e-01 -4.69817126e-03 -1.11578157e-01\n",
            "   6.62561321e+00]\n",
            " [-1.77473149e-02 -7.99098403e-02  3.28113208e-03 -3.88510160e-02\n",
            "   3.01704644e-01  1.82627866e-02  9.48427431e-03 -1.91854862e-03\n",
            "  -1.84079100e-03 -4.69817126e-03  3.90030015e-02  3.75785922e-03\n",
            "   2.33418287e+00]\n",
            " [-5.99891147e-03  2.77914369e-02  6.81288099e-03  4.82748549e-01\n",
            "  -1.89665820e+00  8.67877721e-02  1.30870392e-01 -2.23523222e-02\n",
            "   7.32571118e-02 -1.11578157e-01  3.75785922e-03  2.27251887e-01\n",
            "  -1.12603157e+01]\n",
            " [-9.44952830e-01 -1.91958454e+01 -5.85820029e-01 -5.34414731e+01\n",
            "   9.31881350e+02 -1.07704209e+01 -1.27470138e+01 -9.68857039e-01\n",
            "   1.49191800e+01  6.62561321e+00  2.33418287e+00 -1.12603157e+01\n",
            "   1.95914652e+04]]\n"
          ],
          "name": "stdout"
        }
      ]
    },
    {
      "cell_type": "markdown",
      "metadata": {
        "id": "Re5BvYP_gOjZ",
        "colab_type": "text"
      },
      "source": [
        "#### $\\mu$ and $\\Sigma$ of Class 3"
      ]
    },
    {
      "cell_type": "code",
      "metadata": {
        "id": "smiSY51-gORH",
        "colab_type": "code",
        "outputId": "902b0433-7c8f-4c8d-f232-0a45ac2aedf5",
        "colab": {
          "base_uri": "https://localhost:8080/",
          "height": 1000
        }
      },
      "source": [
        "mean, cov = parameters(xtrain[94:,:])\n",
        "print(mean)\n",
        "print(cov)"
      ],
      "execution_count": 52,
      "outputs": [
        {
          "output_type": "stream",
          "text": [
            "[[1.31180000e+01]\n",
            " [3.47566667e+00]\n",
            " [2.46633333e+00]\n",
            " [2.19000000e+01]\n",
            " [1.00533333e+02]\n",
            " [1.71033333e+00]\n",
            " [7.73000000e-01]\n",
            " [4.67666667e-01]\n",
            " [1.17500000e+00]\n",
            " [7.47800000e+00]\n",
            " [6.90333333e-01]\n",
            " [1.71600000e+00]\n",
            " [6.54666667e+02]]\n",
            "[[ 1.79299310e-01  1.71393103e-02  1.74820690e-02  9.35862069e-02\n",
            "   5.05241379e-01  3.08317241e-02  2.46027586e-02 -9.15655172e-03\n",
            "   4.81655172e-02  2.77437241e-01 -1.86137931e-03  2.17951724e-02\n",
            "  -5.15586207e+00]\n",
            " [ 1.71393103e-02  9.73942644e-01  2.59732184e-02  3.55758621e-01\n",
            "  -1.04140230e+00  4.32528736e-04 -2.55003448e-02  5.31367816e-03\n",
            "  -7.33810345e-02 -5.55998621e-01  2.21187356e-02 -4.55317241e-02\n",
            "  -1.01618391e+01]\n",
            " [ 1.74820690e-02  2.59732184e-02  3.94722989e-02  3.33413793e-01\n",
            "   2.18919540e-01  1.90909195e-02  8.89068966e-03 -2.11919540e-03\n",
            "  -3.88793103e-03  5.37862069e-03  6.17712644e-03  1.53400000e-02\n",
            "  -6.40643678e+00]\n",
            " [ 9.35862069e-02  3.55758621e-01  3.33413793e-01  4.43793103e+00\n",
            "   4.08965517e+00  1.98482759e-01  1.08758621e-01 -2.26551724e-02\n",
            "   3.25862069e-02 -3.27931034e-02  3.29655172e-02  1.99310345e-02\n",
            "  -2.83103448e+01]\n",
            " [ 5.05241379e-01 -1.04140230e+00  2.18919540e-01  4.08965517e+00\n",
            "   1.08395402e+02 -6.75701149e-01  1.66593103e+00 -6.34574713e-01\n",
            "   7.88620690e-01  8.01593103e+00 -2.51218391e-01 -1.09434483e+00\n",
            "   2.53563218e+01]\n",
            " [ 3.08317241e-02  4.32528736e-04  1.90909195e-02  1.98482759e-01\n",
            "  -6.75701149e-01  7.78240230e-02  1.84724138e-03  9.35597701e-03\n",
            "   4.24810345e-02  1.14176552e-01  2.62057471e-03  1.60462069e-02\n",
            "  -2.97402299e+00]\n",
            " [ 2.46027586e-02 -2.55003448e-02  8.89068966e-03  1.08758621e-01\n",
            "   1.66593103e+00  1.84724138e-03  8.26562069e-02 -2.55341379e-02\n",
            "   3.63258621e-02  3.47537241e-01 -1.32768966e-02 -4.32048276e-02\n",
            "  -1.30834483e+01]\n",
            " [-9.15655172e-03  5.31367816e-03 -2.11919540e-03 -2.26551724e-02\n",
            "  -6.34574713e-01  9.35597701e-03 -2.55341379e-02  1.60254023e-02\n",
            "   4.54310345e-03 -5.27496552e-02  3.22149425e-03  8.09379310e-03\n",
            "   2.69919540e+00]\n",
            " [ 4.81655172e-02 -7.33810345e-02 -3.88793103e-03  3.25862069e-02\n",
            "   7.88620690e-01  4.24810345e-02  3.63258621e-02  4.54310345e-03\n",
            "   1.37012069e-01  6.17148276e-01 -2.38189655e-02 -4.45517241e-02\n",
            "   8.47931034e+00]\n",
            " [ 2.77437241e-01 -5.55998621e-01  5.37862069e-03 -3.27931034e-02\n",
            "   8.01593103e+00  1.14176552e-01  3.47537241e-01 -5.27496552e-02\n",
            "   6.17148276e-01  5.54554069e+00 -1.78713103e-01 -2.68646207e-01\n",
            "   2.32906897e+01]\n",
            " [-1.86137931e-03  2.21187356e-02  6.17712644e-03  3.29655172e-02\n",
            "  -2.51218391e-01  2.62057471e-03 -1.32768966e-02  3.22149425e-03\n",
            "  -2.38189655e-02 -1.78713103e-01  1.50516092e-02  1.70600000e-02\n",
            "  -2.58609195e+00]\n",
            " [ 2.17951724e-02 -4.55317241e-02  1.53400000e-02  1.99310345e-02\n",
            "  -1.09434483e+00  1.60462069e-02 -4.32048276e-02  8.09379310e-03\n",
            "  -4.45517241e-02 -2.68646207e-01  1.70600000e-02  8.94662069e-02\n",
            "  -9.68620690e-01]\n",
            " [-5.15586207e+00 -1.01618391e+01 -6.40643678e+00 -2.83103448e+01\n",
            "   2.53563218e+01 -2.97402299e+00 -1.30834483e+01  2.69919540e+00\n",
            "   8.47931034e+00  2.32906897e+01 -2.58609195e+00 -9.68620690e-01\n",
            "   1.18912644e+04]]\n"
          ],
          "name": "stdout"
        }
      ]
    },
    {
      "cell_type": "markdown",
      "metadata": {
        "id": "k8nAEgzxnpmb",
        "colab_type": "text"
      },
      "source": [
        "## Calculate Posterior and the error rate or accuracy rate of the MAP detector"
      ]
    },
    {
      "cell_type": "markdown",
      "metadata": {
        "id": "-t6bxQuzI2Ol",
        "colab_type": "text"
      },
      "source": [
        "$$Posterior( P(C1|x) ) = \\frac{P(x|C1) \\times P(c1)}{𝑃 (𝑥|𝐶1)\\times𝑃(𝐶1) + 𝑃 (𝑥|𝐶2)\\times 𝑃(𝐶2) + P(x|c3)\\times P(C3)} $$\n",
        "\n",
        "<br>\n",
        "\n",
        "\n",
        "\n",
        "*   Likelihood function: $  P(x|C1), P(x|C2), P(x|C3) $\n",
        "\n",
        "*   Prior: $ P(C1), P(C2), P(C3) $\n",
        "\n"
      ]
    },
    {
      "cell_type": "markdown",
      "metadata": {
        "id": "KRH2qNQNdC9R",
        "colab_type": "text"
      },
      "source": [
        "random select from data"
      ]
    },
    {
      "cell_type": "code",
      "metadata": {
        "id": "37htgwlnZTRE",
        "colab_type": "code",
        "colab": {}
      },
      "source": [
        "train, test = ran_split(wine,[], [])\n",
        "xtrain, xtest, ytrain, ytest = modify_data(train, test)\n",
        "prior_1, prior_2, prior_3 = cal_prior(ytrain)\n",
        "\n",
        "class1_x = xtrain[:41,:]\n",
        "class2_x = xtrain[41:94,:]\n",
        "class3_x = xtrain[94:,:]\n",
        "\n",
        "mean, cov = parameters(class1_x)\n",
        "mean2, cov2 = parameters(class2_x)\n",
        "mean3, cov3 = parameters(class3_x)"
      ],
      "execution_count": 0,
      "outputs": []
    },
    {
      "cell_type": "code",
      "metadata": {
        "id": "J9_y9gBHjIqd",
        "colab_type": "code",
        "outputId": "f71350e4-3082-4525-ea40-a9efd391c273",
        "colab": {
          "base_uri": "https://localhost:8080/",
          "height": 1000
        }
      },
      "source": [
        "acc_seeds = 0\n",
        "clas = 0\n",
        "\n",
        "for i in range(len(xtest)):\n",
        "  t = xtest[i]\n",
        "\n",
        "  posterior_1 = (multivariate_guassian(t,13,mean,cov)*prior_1) / (multivariate_guassian(t,13,mean,cov)*prior_1 + multivariate_guassian(t,13,mean2,cov2)*prior_2 + multivariate_guassian(t,13,mean3,cov3)*prior_3)\n",
        "  posterior_2 = (multivariate_guassian(t,13,mean2,cov2)*prior_2) / (multivariate_guassian(t,13,mean,cov)*prior_1 + multivariate_guassian(t,13,mean2,cov2)*prior_2 + multivariate_guassian(t,13,mean3,cov3)*prior_3)\n",
        "  posterior_3 = (multivariate_guassian(t,13,mean3,cov3)*prior_3) / (multivariate_guassian(t,13,mean,cov)*prior_1 + multivariate_guassian(t,13,mean2,cov2)*prior_2 + multivariate_guassian(t,13,mean3,cov3)*prior_3)\n",
        "\n",
        "  good = max(posterior_1, posterior_2, posterior_3)\n",
        "\n",
        "\n",
        "  if (good == posterior_1):\n",
        "    clas = 1\n",
        "  elif (good == posterior_2):\n",
        "    clas = 2\n",
        "  else:\n",
        "    clas = 3\n",
        "  print('%d. is belong to class %d with posterior = %f \\t\\t posterior of each class = %f, %f, %f' % (i+1,clas,good, posterior_1, posterior_2, posterior_3) )\n",
        "\n",
        "  \n",
        "  if (clas == ytest[i]):\n",
        "    acc_seeds += 1\n",
        "    print('\\t Correctly Classify\\n\\n')"
      ],
      "execution_count": 108,
      "outputs": [
        {
          "output_type": "stream",
          "text": [
            "1. is belong to class 1 with posterior = 0.864144 \t\t posterior of each class = 0.864144, 0.135856, 0.000000\n",
            "\t Correctly Classify\n",
            "\n",
            "\n",
            "2. is belong to class 1 with posterior = 0.999923 \t\t posterior of each class = 0.999923, 0.000077, 0.000000\n",
            "\t Correctly Classify\n",
            "\n",
            "\n",
            "3. is belong to class 2 with posterior = 0.760671 \t\t posterior of each class = 0.239329, 0.760671, 0.000000\n",
            "4. is belong to class 1 with posterior = 1.000000 \t\t posterior of each class = 1.000000, 0.000000, 0.000000\n",
            "\t Correctly Classify\n",
            "\n",
            "\n",
            "5. is belong to class 1 with posterior = 1.000000 \t\t posterior of each class = 1.000000, 0.000000, 0.000000\n",
            "\t Correctly Classify\n",
            "\n",
            "\n",
            "6. is belong to class 1 with posterior = 1.000000 \t\t posterior of each class = 1.000000, 0.000000, 0.000000\n",
            "\t Correctly Classify\n",
            "\n",
            "\n",
            "7. is belong to class 1 with posterior = 1.000000 \t\t posterior of each class = 1.000000, 0.000000, 0.000000\n",
            "\t Correctly Classify\n",
            "\n",
            "\n",
            "8. is belong to class 1 with posterior = 1.000000 \t\t posterior of each class = 1.000000, 0.000000, 0.000000\n",
            "\t Correctly Classify\n",
            "\n",
            "\n",
            "9. is belong to class 1 with posterior = 0.999508 \t\t posterior of each class = 0.999508, 0.000492, 0.000000\n",
            "\t Correctly Classify\n",
            "\n",
            "\n",
            "10. is belong to class 1 with posterior = 0.992590 \t\t posterior of each class = 0.992590, 0.007410, 0.000000\n",
            "\t Correctly Classify\n",
            "\n",
            "\n",
            "11. is belong to class 1 with posterior = 1.000000 \t\t posterior of each class = 1.000000, 0.000000, 0.000000\n",
            "\t Correctly Classify\n",
            "\n",
            "\n",
            "12. is belong to class 1 with posterior = 0.999723 \t\t posterior of each class = 0.999723, 0.000277, 0.000000\n",
            "\t Correctly Classify\n",
            "\n",
            "\n",
            "13. is belong to class 1 with posterior = 0.999992 \t\t posterior of each class = 0.999992, 0.000008, 0.000000\n",
            "\t Correctly Classify\n",
            "\n",
            "\n",
            "14. is belong to class 1 with posterior = 0.999663 \t\t posterior of each class = 0.999663, 0.000337, 0.000000\n",
            "\t Correctly Classify\n",
            "\n",
            "\n",
            "15. is belong to class 1 with posterior = 0.999170 \t\t posterior of each class = 0.999170, 0.000830, 0.000000\n",
            "\t Correctly Classify\n",
            "\n",
            "\n",
            "16. is belong to class 1 with posterior = 0.999711 \t\t posterior of each class = 0.999711, 0.000289, 0.000000\n",
            "\t Correctly Classify\n",
            "\n",
            "\n",
            "17. is belong to class 1 with posterior = 0.997527 \t\t posterior of each class = 0.997527, 0.002473, 0.000000\n",
            "\t Correctly Classify\n",
            "\n",
            "\n",
            "18. is belong to class 1 with posterior = 1.000000 \t\t posterior of each class = 1.000000, 0.000000, 0.000000\n",
            "\t Correctly Classify\n",
            "\n",
            "\n",
            "19. is belong to class 2 with posterior = 1.000000 \t\t posterior of each class = 0.000000, 1.000000, 0.000000\n",
            "\t Correctly Classify\n",
            "\n",
            "\n",
            "20. is belong to class 2 with posterior = 1.000000 \t\t posterior of each class = 0.000000, 1.000000, 0.000000\n",
            "\t Correctly Classify\n",
            "\n",
            "\n",
            "21. is belong to class 2 with posterior = 1.000000 \t\t posterior of each class = 0.000000, 1.000000, 0.000000\n",
            "\t Correctly Classify\n",
            "\n",
            "\n",
            "22. is belong to class 2 with posterior = 1.000000 \t\t posterior of each class = 0.000000, 1.000000, 0.000000\n",
            "\t Correctly Classify\n",
            "\n",
            "\n",
            "23. is belong to class 2 with posterior = 1.000000 \t\t posterior of each class = 0.000000, 1.000000, 0.000000\n",
            "\t Correctly Classify\n",
            "\n",
            "\n",
            "24. is belong to class 2 with posterior = 0.999985 \t\t posterior of each class = 0.000015, 0.999985, 0.000000\n",
            "\t Correctly Classify\n",
            "\n",
            "\n",
            "25. is belong to class 2 with posterior = 1.000000 \t\t posterior of each class = 0.000000, 1.000000, 0.000000\n",
            "\t Correctly Classify\n",
            "\n",
            "\n",
            "26. is belong to class 2 with posterior = 1.000000 \t\t posterior of each class = 0.000000, 1.000000, 0.000000\n",
            "\t Correctly Classify\n",
            "\n",
            "\n",
            "27. is belong to class 2 with posterior = 1.000000 \t\t posterior of each class = 0.000000, 1.000000, 0.000000\n",
            "\t Correctly Classify\n",
            "\n",
            "\n",
            "28. is belong to class 2 with posterior = 1.000000 \t\t posterior of each class = 0.000000, 1.000000, 0.000000\n",
            "\t Correctly Classify\n",
            "\n",
            "\n",
            "29. is belong to class 2 with posterior = 1.000000 \t\t posterior of each class = 0.000000, 1.000000, 0.000000\n",
            "\t Correctly Classify\n",
            "\n",
            "\n",
            "30. is belong to class 2 with posterior = 1.000000 \t\t posterior of each class = 0.000000, 1.000000, 0.000000\n",
            "\t Correctly Classify\n",
            "\n",
            "\n",
            "31. is belong to class 2 with posterior = 1.000000 \t\t posterior of each class = 0.000000, 1.000000, 0.000000\n",
            "\t Correctly Classify\n",
            "\n",
            "\n",
            "32. is belong to class 2 with posterior = 1.000000 \t\t posterior of each class = 0.000000, 1.000000, 0.000000\n",
            "\t Correctly Classify\n",
            "\n",
            "\n",
            "33. is belong to class 2 with posterior = 1.000000 \t\t posterior of each class = 0.000000, 1.000000, 0.000000\n",
            "\t Correctly Classify\n",
            "\n",
            "\n",
            "34. is belong to class 2 with posterior = 1.000000 \t\t posterior of each class = 0.000000, 1.000000, 0.000000\n",
            "\t Correctly Classify\n",
            "\n",
            "\n",
            "35. is belong to class 2 with posterior = 1.000000 \t\t posterior of each class = 0.000000, 1.000000, 0.000000\n",
            "\t Correctly Classify\n",
            "\n",
            "\n",
            "36. is belong to class 2 with posterior = 1.000000 \t\t posterior of each class = 0.000000, 1.000000, 0.000000\n",
            "\t Correctly Classify\n",
            "\n",
            "\n",
            "37. is belong to class 3 with posterior = 0.999998 \t\t posterior of each class = 0.000000, 0.000002, 0.999998\n",
            "\t Correctly Classify\n",
            "\n",
            "\n",
            "38. is belong to class 3 with posterior = 1.000000 \t\t posterior of each class = 0.000000, 0.000000, 1.000000\n",
            "\t Correctly Classify\n",
            "\n",
            "\n",
            "39. is belong to class 3 with posterior = 0.977513 \t\t posterior of each class = 0.000000, 0.022487, 0.977513\n",
            "\t Correctly Classify\n",
            "\n",
            "\n",
            "40. is belong to class 3 with posterior = 1.000000 \t\t posterior of each class = 0.000000, 0.000000, 1.000000\n",
            "\t Correctly Classify\n",
            "\n",
            "\n",
            "41. is belong to class 3 with posterior = 0.999996 \t\t posterior of each class = 0.000000, 0.000004, 0.999996\n",
            "\t Correctly Classify\n",
            "\n",
            "\n",
            "42. is belong to class 3 with posterior = 1.000000 \t\t posterior of each class = 0.000000, 0.000000, 1.000000\n",
            "\t Correctly Classify\n",
            "\n",
            "\n",
            "43. is belong to class 2 with posterior = 0.873281 \t\t posterior of each class = 0.000000, 0.873281, 0.126719\n",
            "44. is belong to class 3 with posterior = 1.000000 \t\t posterior of each class = 0.000000, 0.000000, 1.000000\n",
            "\t Correctly Classify\n",
            "\n",
            "\n",
            "45. is belong to class 3 with posterior = 1.000000 \t\t posterior of each class = 0.000000, 0.000000, 1.000000\n",
            "\t Correctly Classify\n",
            "\n",
            "\n",
            "46. is belong to class 3 with posterior = 1.000000 \t\t posterior of each class = 0.000000, 0.000000, 1.000000\n",
            "\t Correctly Classify\n",
            "\n",
            "\n",
            "47. is belong to class 3 with posterior = 0.999999 \t\t posterior of each class = 0.000000, 0.000001, 0.999999\n",
            "\t Correctly Classify\n",
            "\n",
            "\n",
            "48. is belong to class 3 with posterior = 0.668165 \t\t posterior of each class = 0.000000, 0.331835, 0.668165\n",
            "\t Correctly Classify\n",
            "\n",
            "\n",
            "49. is belong to class 3 with posterior = 1.000000 \t\t posterior of each class = 0.000000, 0.000000, 1.000000\n",
            "\t Correctly Classify\n",
            "\n",
            "\n",
            "50. is belong to class 3 with posterior = 1.000000 \t\t posterior of each class = 0.000000, 0.000000, 1.000000\n",
            "\t Correctly Classify\n",
            "\n",
            "\n",
            "51. is belong to class 3 with posterior = 1.000000 \t\t posterior of each class = 0.000000, 0.000000, 1.000000\n",
            "\t Correctly Classify\n",
            "\n",
            "\n",
            "52. is belong to class 3 with posterior = 0.999105 \t\t posterior of each class = 0.000000, 0.000895, 0.999105\n",
            "\t Correctly Classify\n",
            "\n",
            "\n",
            "53. is belong to class 3 with posterior = 1.000000 \t\t posterior of each class = 0.000000, 0.000000, 1.000000\n",
            "\t Correctly Classify\n",
            "\n",
            "\n",
            "54. is belong to class 3 with posterior = 1.000000 \t\t posterior of each class = 0.000000, 0.000000, 1.000000\n",
            "\t Correctly Classify\n",
            "\n",
            "\n"
          ],
          "name": "stdout"
        }
      ]
    },
    {
      "cell_type": "code",
      "metadata": {
        "id": "kAQLm3YxkSs4",
        "colab_type": "code",
        "outputId": "5e63fb8b-4d02-45e5-824f-d7667ef316ad",
        "colab": {
          "base_uri": "https://localhost:8080/",
          "height": 34
        }
      },
      "source": [
        "print('Accuracy Rate = %f' % (acc_seeds/len(ytest)))"
      ],
      "execution_count": 109,
      "outputs": [
        {
          "output_type": "stream",
          "text": [
            "Accuracy Rate = 0.962963\n"
          ],
          "name": "stdout"
        }
      ]
    },
    {
      "cell_type": "markdown",
      "metadata": {
        "id": "7OB8Y3h4qYiq",
        "colab_type": "text"
      },
      "source": [
        "# Discussion Characteristics and Plot the Visualized Result of Testing Data(20%)"
      ]
    },
    {
      "cell_type": "markdown",
      "metadata": {
        "id": "q4YRXzDfjC-z",
        "colab_type": "text"
      },
      "source": [
        "## 2-Dim PCA Visualization"
      ]
    },
    {
      "cell_type": "code",
      "metadata": {
        "id": "ZLSHFrNZqi_m",
        "colab_type": "code",
        "colab": {}
      },
      "source": [
        "from sklearn.decomposition import PCA"
      ],
      "execution_count": 0,
      "outputs": []
    },
    {
      "cell_type": "code",
      "metadata": {
        "id": "4agj61syfjG6",
        "colab_type": "code",
        "colab": {}
      },
      "source": [
        "pca = PCA(n_components=2 )\n",
        "pca.fit(xtest)\n",
        "\n",
        "new_xtest = pca.transform(xtest)\n",
        "new_xtest"
      ],
      "execution_count": 0,
      "outputs": []
    },
    {
      "cell_type": "code",
      "metadata": {
        "id": "vZnRbg-egGXT",
        "colab_type": "code",
        "colab": {
          "base_uri": "https://localhost:8080/",
          "height": 609
        },
        "outputId": "4c5e2aa1-a0e9-44b5-db11-d116579e3ae8"
      },
      "source": [
        "plt.figure(figsize=(10,10))\n",
        "plt.scatter(new_xtest[:,0], new_xtest[:,1], c=ytest, marker='o')"
      ],
      "execution_count": 123,
      "outputs": [
        {
          "output_type": "execute_result",
          "data": {
            "text/plain": [
              "<matplotlib.collections.PathCollection at 0x7fd8991266a0>"
            ]
          },
          "metadata": {
            "tags": []
          },
          "execution_count": 123
        },
        {
          "output_type": "display_data",
          "data": {
            "image/png": "[encoded data removed]",
            "text/plain": [
              "<Figure size 720x720 with 1 Axes>"
            ]
          },
          "metadata": {
            "tags": [],
            "needs_background": "light"
          }
        }
      ]
    },
    {
      "cell_type": "markdown",
      "metadata": {
        "id": "1Wqym2agjJS-",
        "colab_type": "text"
      },
      "source": [
        "## 3-Dim PCA Visualization"
      ]
    },
    {
      "cell_type": "code",
      "metadata": {
        "id": "cA654rmLjhjn",
        "colab_type": "code",
        "colab": {}
      },
      "source": [
        "from mpl_toolkits.mplot3d import Axes3D"
      ],
      "execution_count": 0,
      "outputs": []
    },
    {
      "cell_type": "code",
      "metadata": {
        "id": "2q7xbFnwgX6L",
        "colab_type": "code",
        "colab": {
          "base_uri": "https://localhost:8080/",
          "height": 935
        },
        "outputId": "5e689dca-3cbb-45cd-f317-140498459b5c"
      },
      "source": [
        "pca3d = PCA(n_components=3)\n",
        "pca3d.fit(xtest)\n",
        "new_xtest3d = pca3d.transform(xtest)\n",
        "new_xtest3d"
      ],
      "execution_count": 134,
      "outputs": [
        {
          "output_type": "execute_result",
          "data": {
            "text/plain": [
              "array([[ 1.21975857e+02,  7.35478611e+00, -3.31774815e+00],\n",
              "       [ 5.01864750e+02, -1.75244157e+00,  1.43544116e+00],\n",
              "       [-2.28669273e+01,  1.81857141e+01,  5.31095775e-01],\n",
              "       [ 5.37096356e+02,  1.04285077e+01,  1.70592623e-01],\n",
              "       [ 6.16970172e+02,  2.93575405e+00,  6.49998648e-01],\n",
              "       [ 5.21603652e+02, -1.52716609e+01,  9.10159526e-02],\n",
              "       [ 5.06588613e+02, -1.59587664e+01,  4.20566330e-01],\n",
              "       [ 3.07270623e+02,  2.08296011e+01, -2.77285946e+00],\n",
              "       [ 5.51926915e+02,  1.22434063e+00,  9.33013301e-01],\n",
              "       [ 8.71013703e+01,  1.40409870e+01, -3.55322121e+00],\n",
              "       [ 3.91582997e+02, -1.68242199e+01, -5.11926180e+00],\n",
              "       [ 3.91597275e+02, -1.57559551e+01, -3.54886228e+00],\n",
              "       [ 3.06786791e+02, -4.16133078e+00, -1.65384048e+00],\n",
              "       [ 2.23066184e+01,  2.53024088e+01, -3.63948072e+00],\n",
              "       [ 3.36916148e+02,  3.25645659e+00,  4.65349333e-01],\n",
              "       [ 2.86718803e+02, -7.69574161e+00, -1.11615444e+00],\n",
              "       [ 2.31830417e+02, -7.59398849e-01, -1.56772957e+00],\n",
              "       [ 6.91909252e+02, -1.50765989e+00, -5.56589727e-01],\n",
              "       [-7.83160142e+01, -4.82828463e+00, -1.00203580e+00],\n",
              "       [ 1.11811395e+02,  5.50343653e-01,  8.74594387e-01],\n",
              "       [-7.50143019e+00,  3.57557824e+01, -5.71318301e+00],\n",
              "       [-4.13164395e+02,  5.60064337e+00, -3.66524824e+00],\n",
              "       [-1.78579178e+02, -1.68525934e+01,  1.70883750e+00],\n",
              "       [-3.20196870e+02,  3.84368541e+00, -7.31788043e-01],\n",
              "       [-3.08166011e+02,  4.56573936e+00, -3.57546782e+00],\n",
              "       [-2.56556362e+02, -1.73502562e+01, -4.61117499e+00],\n",
              "       [-3.30193507e+02,  3.00809602e+00, -4.42836085e+00],\n",
              "       [-2.70482468e+02, -1.10640575e+01,  1.46989310e+00],\n",
              "       [-3.43419393e+02, -7.75681935e+00, -2.07356104e+00],\n",
              "       [-7.85195135e+01, -1.47839483e+01,  1.29150828e+00],\n",
              "       [-3.08138932e+02,  5.67353855e+00, -2.90389420e+00],\n",
              "       [-7.81680795e+01,  2.15355499e+00, -3.63954362e+00],\n",
              "       [-3.30420493e+02, -9.01642489e+00, -4.91673959e+00],\n",
              "       [-2.63553772e+02, -1.52252026e+01,  2.85562276e-02],\n",
              "       [-3.52367802e+02, -5.59373787e+00, -3.48881875e+00],\n",
              "       [-3.80433715e+02, -8.00026451e+00, -8.20010555e-01],\n",
              "       [-1.98233590e+02,  1.65729655e+00,  4.10122273e+00],\n",
              "       [-6.33104922e+01, -4.94184483e+00,  6.92142464e-01],\n",
              "       [-2.38244576e+02,  1.38101597e+00,  3.20111688e+00],\n",
              "       [-2.77928984e+02,  1.73493364e+01,  3.69234966e+00],\n",
              "       [-1.88073496e+02,  9.43483499e+00,  2.31689458e+00],\n",
              "       [-6.29958286e+01,  1.22413152e+01,  5.68933721e+00],\n",
              "       [-2.08330521e+02, -4.22584636e+00,  7.26478565e-01],\n",
              "       [-1.83080922e+01, -4.73799543e+00,  3.47342661e+00],\n",
              "       [-8.18673760e+00,  2.06676437e+00,  4.87340128e+00],\n",
              "       [-1.27977175e+02,  1.44333384e+01,  6.35673632e+00],\n",
              "       [-1.78409079e+02, -8.75859353e+00,  9.18322344e-01],\n",
              "       [-1.58268562e+02, -1.17878264e+00,  1.41516715e+00],\n",
              "       [-8.32213472e+01, -4.25335790e-01,  1.96717217e+00],\n",
              "       [-1.98265280e+02, -1.82924669e-01,  6.33485934e+00],\n",
              "       [-2.88418089e+02, -8.49299186e+00,  2.01404549e+00],\n",
              "       [-1.08471798e+02, -1.31491469e+01, -1.05598731e+00],\n",
              "       [ 1.21672287e+02, -5.37654500e+00,  8.87466801e+00],\n",
              "       [ 8.21582198e+01,  1.83549296e+01,  2.75375825e+00]])"
            ]
          },
          "metadata": {
            "tags": []
          },
          "execution_count": 134
        }
      ]
    },
    {
      "cell_type": "code",
      "metadata": {
        "id": "4sFklegvhZxl",
        "colab_type": "code",
        "colab": {
          "base_uri": "https://localhost:8080/",
          "height": 592
        },
        "outputId": "c9dac919-63a4-45fb-f7d8-ec7a3861a9d8"
      },
      "source": [
        "fig = plt.figure(figsize=(10,10))\n",
        "ax = fig.add_subplot(111, projection='3d')\n",
        "ax.scatter(new_xtest3d[:,0], new_xtest3d[:,1], zs = new_xtest3d[:,2], c=ytest)"
      ],
      "execution_count": 142,
      "outputs": [
        {
          "output_type": "execute_result",
          "data": {
            "text/plain": [
              "<mpl_toolkits.mplot3d.art3d.Path3DCollection at 0x7fd8996050b8>"
            ]
          },
          "metadata": {
            "tags": []
          },
          "execution_count": 142
        },
        {
          "output_type": "display_data",
          "data": {
            "image/png": "[encoded data removed]",
            "text/plain": [
              "<Figure size 720x720 with 1 Axes>"
            ]
          },
          "metadata": {
            "tags": [],
            "needs_background": "light"
          }
        }
      ]
    },
    {
      "cell_type": "code",
      "metadata": {
        "id": "1Cd_aweAj8Hz",
        "colab_type": "code",
        "colab": {}
      },
      "source": [
        ""
      ],
      "execution_count": 0,
      "outputs": []
    }
  ]
}